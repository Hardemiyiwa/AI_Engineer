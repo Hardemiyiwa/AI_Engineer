{
 "cells": [
  {
   "cell_type": "markdown",
   "id": "daa884ac",
   "metadata": {},
   "source": [
    "#### Task1– Mean, Median & Mode"
   ]
  },
  {
   "cell_type": "markdown",
   "id": "7de3d33f",
   "metadata": {},
   "source": [
    "**1: Class Test Scores**\n",
    "\n",
    "- The following are the Mathematics test scores (out of 20) for a class of 15 students: 5, 8, 10, 12, 12, 12, 13, 14, 14, 15, 16, 18, 18, 20, 20\n",
    "    - Find the mean, median, and mode of the scores.\n",
    "    - If the lowest score (5) was wrongly recorded and should have been 10, how would the mean change? Would the median or mode change? Explain."
   ]
  },
  {
   "cell_type": "markdown",
   "id": "4c42c9d0",
   "metadata": {},
   "source": [
    "**Solution**\n",
    "\n",
    "1. test_score = 5, 8, 10, 12, 12, 12, 13, 14, 14, 15, 16, 18, 18, 20, 20\n",
    "\n",
    "`mean` = sum_of_test_score / no_of_test_score\n",
    "```c\n",
    "         (5 + 8 + 10 + 12 + 12 + 12 + 13 + 14 + 14 + 15 + 16 + 18 + 18 + 20 + 20)\n",
    "       =  ------------------------------------------------------------------------\n",
    "                                            15\n",
    "       = 13.8\n",
    "```\n",
    "\n",
    "`median` = 14\n",
    "\n",
    "`mode` = 12\n",
    "\n",
    "2. - The `mean` value is increase by `0.333` because `10` is higher than `5`\n",
    "\n",
    "   - The `mode` did not change because `14` still has the highest frquency\n",
    "\n",
    "   - The `median` did not change since the data collected is 15(i.e odd) and 14 is still the one at the middle after arranging it in the ascending order"
   ]
  },
  {
   "cell_type": "markdown",
   "id": "274aca58",
   "metadata": {},
   "source": [
    "**2: Daily Commute Times**\n",
    "\n",
    "- A group of 9 students reported the time (in minutes) it takes them to get to school each day: 15, 20, 20, 25, 25, 30, 60, 65, 120\n",
    "    - Find the mean, median, and mode of the data.\n",
    "    - Which measure (mean, median, or mode) do you think best represents the “typical” time it takes students to get to school? Why? (Hint: Think about the effect of the student who takes 120 minutes.)\n"
   ]
  },
  {
   "cell_type": "markdown",
   "id": "2c7d47a9",
   "metadata": {},
   "source": [
    "**Solution**\n",
    "reported_minute = 15, 20, 20, 25, 25, 30, 60, 65, 120\n",
    "1. `mean` = sum_of_reported_minute / no_of_reported_minute\n",
    "```c\n",
    "            15 + 20 + 20 + 25 + 25 + 30 + 60 + 65 + 120\n",
    "          = -------------------------------------------\n",
    "                                9\n",
    "          = 42.22\n",
    "```\n",
    "   `median` = 25\n",
    "   \n",
    "   `mode` = 20 and 30 (bimodal)\n",
    "\n",
    "2. `median`: because it is not affected by extreme value and 50% of the data is <= the median and 50% is >= the median"
   ]
  },
  {
   "cell_type": "markdown",
   "id": "cb23909c",
   "metadata": {},
   "source": [
    "**3: Shoe Sizes**\n",
    "- The shoe sizes of students in a class are: 38, 39, 38, 40, 41, 42, 39, 39, 40, 38, 37, 39, 40, 41, 42\n",
    "Find the mode of the data.\n",
    "- If a shoe company wants to donate free shoes, which size should they produce most of? Why?\n",
    "- What if they only want to produce one size that would fit the \"average\" student? Should they use mean, median, or mode? Defend your answer.\n"
   ]
  },
  {
   "cell_type": "markdown",
   "id": "7676e01a",
   "metadata": {},
   "source": []
  }
 ],
 "metadata": {
  "language_info": {
   "name": "python"
  }
 },
 "nbformat": 4,
 "nbformat_minor": 5
}

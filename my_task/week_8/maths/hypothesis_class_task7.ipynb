{
 "cells": [
  {
   "cell_type": "markdown",
   "id": "1d391230",
   "metadata": {},
   "source": [
    "#### Type of Hypothesis Testing\n",
    "\n",
    "**Given the following Concept**\n",
    "- Chi-square test (for categorical data)\n",
    "- ANOVA (for comparing more than two means)\n",
    "- Two Tailed Tests\n",
    "- Proportion Tests"
   ]
  },
  {
   "cell_type": "markdown",
   "id": "b17df24c",
   "metadata": {},
   "source": [
    "- Chi-square test (for categorical data)\n"
   ]
  },
  {
   "cell_type": "markdown",
   "id": "bc55b4c6",
   "metadata": {},
   "source": []
  }
 ],
 "metadata": {
  "language_info": {
   "name": "python"
  }
 },
 "nbformat": 4,
 "nbformat_minor": 5
}

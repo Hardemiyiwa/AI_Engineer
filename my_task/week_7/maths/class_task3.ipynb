{
 "cells": [
  {
   "cell_type": "markdown",
   "id": "ae079d5f",
   "metadata": {},
   "source": [
    "#### Ademuyiwa Victor"
   ]
  },
  {
   "cell_type": "markdown",
   "id": "476d5139",
   "metadata": {},
   "source": [
    "##### Class Task 3\n",
    "\n",
    "```c\n",
    "let A = [[2 -1]\n",
    "         [0  3]]\n",
    "    B = [[1   4]\n",
    "         [-2, 5]]\n",
    "    and let the scalars (c = 2), (d = 3).\n",
    "```"
   ]
  },
  {
   "cell_type": "markdown",
   "id": "7b2f08b0",
   "metadata": {},
   "source": [
    "**(a)** compute the following: (cA), (dB), and (c + d)A\n",
    "\n",
    "**Solution**\n",
    "\n",
    "```c\n",
    "cA = [[2*2 2*-1]\n",
    "      [2*0 2*3]]\n",
    "cA = [[4 -2]\n",
    "      [0  6]]\n",
    "\n",
    "dB = [[3*1  3*4]\n",
    "      [3*-2 3*5]]\n",
    "dB = [[3  12]\n",
    "      [-6 15]]\n",
    "\n",
    "(c + d)A = [[5*2 5*-1]\n",
    "            [4*]]"
   ]
  }
 ],
 "metadata": {
  "language_info": {
   "name": "python"
  }
 },
 "nbformat": 4,
 "nbformat_minor": 5
}

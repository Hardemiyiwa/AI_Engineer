{
 "cells": [
  {
   "cell_type": "markdown",
   "id": "4e085573",
   "metadata": {},
   "source": [
    "**Execise** Given([4, 8, 6, 5, 3]) find the variance.\n",
    "\n",
    "**solution**\n",
    "\n",
    "mean $\\bar{x}$ = (4 + 8 + 6 + 5 + 3) / 5\n",
    "\n",
    "$\\bar{x}$ = 5.2\n",
    "\n",
    "| x     | xi - $\\bar{x}$   | (xi - $\\bar{x}$)^2|\n",
    "|-------|----------|-----------|\n",
    "| 4     | 4 - 5.2 | 1.44 |\n",
    "| 8     | 8 - 5.2 | 7.84 |\n",
    "| 6     | 6 - 5.2 | 0.64 |\n",
    "| 5     | 5 - 5.2 | 0.04 |\n",
    "| 3     | 3 - 5.2 | 4.84 |\n",
    "\n",
    "variance = (1.44 + 7.84 + 0.64 + 0.04 + 4.84) / 5\n",
    "\n",
    "variance = 2.96\n"
   ]
  },
  {
   "cell_type": "markdown",
   "id": "4129e86c",
   "metadata": {},
   "source": []
  }
 ],
 "metadata": {
  "language_info": {
   "name": "python"
  }
 },
 "nbformat": 4,
 "nbformat_minor": 5
}

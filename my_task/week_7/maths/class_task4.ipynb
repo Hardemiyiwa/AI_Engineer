{
 "cells": [
  {
   "cell_type": "code",
   "execution_count": null,
   "id": "86a82079",
   "metadata": {},
   "outputs": [],
   "source": [
    "import numpy as np"
   ]
  },
  {
   "cell_type": "markdown",
   "id": "c89fb4f0",
   "metadata": {},
   "source": [
    "1. Create a new 5x4 matrix of scores (5 students, 4 subjects). Compute each student's total score and the average per subject"
   ]
  },
  {
   "cell_type": "markdown",
   "id": "07637734",
   "metadata": {},
   "source": [
    "\n",
    "Student  Math  English  Science Art\n",
    "\n",
    "student1\n",
    "\n",
    "student2\n",
    "\n",
    "student3\n",
    "\n",
    "student4"
   ]
  },
  {
   "cell_type": "markdown",
   "id": "96e94de4",
   "metadata": {},
   "source": [
    "students_score = $\\begin{bmatrix} 80 & 70 & 90 & 60 \\\\ 60 & 85 & 75 & 70 \\\\ 95 & 88 & 92 & 80 \\\\ 70 & 60 & 65 & 75 \\\\ 55 & 70 & 75 & 80 \\end{bmatrix}$\n",
    "\n",
    "Sum of rows (total score per student)\n",
    "\n",
    "- Student 1: 80 + 70 + 90 + 60 = 300  \n",
    "- Student 2: 60 + 85 + 75 + 70 = 290  \n",
    "- Student 3: 95 + 88 + 92 + 80 = 355  \n",
    "- Student 4: 70 + 60 + 65 + 75 = 270\n",
    "- student 5: 55 + 70 + 75 + 80 = 280\n",
    "\n",
    "student total score: `[240, 220, 275, 195]`"
   ]
  },
  {
   "cell_type": "code",
   "execution_count": 19,
   "id": "da1babd7",
   "metadata": {},
   "outputs": [
    {
     "name": "stdout",
     "output_type": "stream",
     "text": [
      "Student total score:\n",
      "[300 290 355 270 280]\n",
      "\n",
      "Average per subject:\n",
      " [72.  74.6 79.4 73. ]\n"
     ]
    }
   ],
   "source": [
    "students_score = np.array([[80, 70, 90, 60],\n",
    "                           [60, 85, 75, 70],\n",
    "                           [95, 88, 92, 80],\n",
    "                           [70, 60, 65, 75],\n",
    "                           [55, 70, 75, 80]])\n",
    "\n",
    "students_total_score = np.sum(students_score, axis=1)\n",
    "print(f\"Student total score:\\n{students_total_score}\")\n",
    "\n",
    "students_avg_score = np.average(students_score, axis=0)\n",
    "print(\"\\nAverage per subject:\\n\", students_avg_score)"
   ]
  },
  {
   "cell_type": "markdown",
   "id": "2f263e9c",
   "metadata": {},
   "source": [
    "2. Suppose one subject(e.g., science) is times more important than others. Apply scalar multiplication and recompute totals "
   ]
  },
  {
   "cell_type": "code",
   "execution_count": null,
   "id": "162479d8",
   "metadata": {},
   "outputs": [],
   "source": [
    "# getting the science score\n",
    "science_score = students_score[:, 2].copy()\n",
    "# multiplying science score by 3\n",
    "science_score *= 3\n",
    "\n",
    "students_score[:, 2] = science_score\n",
    "print(\"New student score:\\n\", students_score)\n",
    "\n",
    "new_total_score = np.sum(students_score, axis=1)\n",
    "print(\"\\nNew total score:\")\n",
    "new_total_score"
   ]
  },
  {
   "cell_type": "markdown",
   "id": "9b99f94e",
   "metadata": {},
   "source": [
    "3. Define new weight for grading(e.g 40%, 20%, 30%, 10%). compute final grades using matrix multiplication. using  "
   ]
  },
  {
   "cell_type": "code",
   "execution_count": null,
   "id": "691b60ab",
   "metadata": {},
   "outputs": [],
   "source": [
    "weight = np.array([0.4, 0.2, 0.3, 0.1])\n",
    "\n",
    "grade = students_score @ weight\n",
    "grade"
   ]
  },
  {
   "cell_type": "markdown",
   "id": "96e47d2c",
   "metadata": {},
   "source": [
    "4. Compare Student3 and student 4 using vector subtraction. who performed better in each subject? "
   ]
  },
  {
   "cell_type": "code",
   "execution_count": null,
   "id": "e55811ca",
   "metadata": {},
   "outputs": [],
   "source": []
  }
 ],
 "metadata": {
  "kernelspec": {
   "display_name": "_task_evn",
   "language": "python",
   "name": "python3"
  },
  "language_info": {
   "codemirror_mode": {
    "name": "ipython",
    "version": 3
   },
   "file_extension": ".py",
   "mimetype": "text/x-python",
   "name": "python",
   "nbconvert_exporter": "python",
   "pygments_lexer": "ipython3",
   "version": "3.13.7"
  }
 },
 "nbformat": 4,
 "nbformat_minor": 5
}

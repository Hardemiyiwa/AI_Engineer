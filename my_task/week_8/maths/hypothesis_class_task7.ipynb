{
 "cells": [
  {
   "cell_type": "markdown",
   "id": "1d391230",
   "metadata": {},
   "source": [
    "#### Type of Hypothesis Testing\n",
    "\n",
    "**Given the following Concept**\n",
    "- Chi-square test (for categorical data)\n",
    "- ANOVA (for comparing more than two means)\n",
    "- Two Tailed Tests\n",
    "- Proportion Tests"
   ]
  },
  {
   "cell_type": "markdown",
   "id": "b17df24c",
   "metadata": {},
   "source": [
    "**Chi-square test (for categorical data)**\n",
    "\n",
    "The **Chi-square test** is a statistical method used to determine whether there's a significant association between two categorical variables. It compares the observed frequencies in each category to the expected frequencies if there were no relationship.\n",
    "\n",
    "- **Types of Chi-Square Tests**\n",
    "    - **Chi-square Test of Independence**\n",
    "        - **Purpose:** Tests whether two categorical variables are independent.\n",
    "        - **Example:** is gender related to voting preference?\n",
    "    - **Chi-square Goodness-of-Fit Test**\n",
    "        - **Purpose:** Tests whether a single categorical variable fits a specific distribution.\n",
    "        - **Example:** Do dice rolls follow a uniform distribution?\n",
    "\n",
    "**How it works**\n",
    "1. **Setting up hypotheses:**\n",
    "- **Null hypothesis ($H_0$):** No association between variables (or data fits the expected distribution)\n",
    "- **Alternative hypothesis ($H_0$):** There is an association (or data does not fit the expected distribution).\n",
    "2. **Create a contingency table (for independence test):**\n",
    "- Rows = categories of one variable\n",
    "- Columns = categories of the other\n",
    "3. Calculate expected frequencies:\n",
    "- for each cell:\n",
    "\n",
    "4. **Compute the Chi-square statistic:**\n",
    "- Where:\n",
    "- \\(O\\) = observed frequency\n",
    "- \\(E\\) = expected frequency\n",
    "\n",
    "5. Compare with critical value:\n",
    "- Use degrees of freedom and significance level (usually 0.05) to determine if the result is statistically significant.\n",
    "\n",
    "**In summary:** The Chi-square test helps answer questions like:\n",
    "- Is there a relationship between two categorical variables?\n",
    "- Are observed outcomes significantly different from what we'd expected by chance\n",
    "\n",
    "It's based on the idea that if two variable are independent, the distribution of one should't affect the other. The test checks whether the difference between observedd and expected frequencies is large enough to reject that assumption.\n",
    "\n",
    "**Example:** Voting Preference by Age Group\n",
    "\n",
    "Wants to know if **voting preference** is related to **age group**. Using the survey of 300 people and record the following:\n",
    "\n",
    "| **Age Group** | **Voted Party A** | **Voted Party B** | **Total** |\n",
    "|---------------|-------------------|-------------------|-----------|\n",
    "| 18 - 35       | 90                | 60                | 150       |\n",
    "| 36 - 60       | 30                | 60                | 90        |\n",
    "| 60+       | 10                | 50                | 60        |\n",
    "| **Total**       | **130**               | **170**               | **300**       |\n",
    "\n",
    "**Step 1: Hypotheses**\n",
    "- $H_0$ (null): Volting preference is independent of age group.\n",
    "- $H_1$ (alternative): Volting preference depends on age group.\n",
    "\n",
    "**Step 2: Calculate Expected Frequencies**\n",
    "$$E = \\frac{(\\text{Row Total}) \\times (\\text{Column Total})}{\\text{Grand Total}}$$\n",
    "\n",
    "calculating expected \n"
   ]
  },
  {
   "cell_type": "markdown",
   "id": "bc55b4c6",
   "metadata": {},
   "source": []
  }
 ],
 "metadata": {
  "language_info": {
   "name": "python"
  }
 },
 "nbformat": 4,
 "nbformat_minor": 5
}

{
 "cells": [
  {
   "cell_type": "code",
   "execution_count": 1,
   "id": "cdc1bf50",
   "metadata": {},
   "outputs": [],
   "source": [
    "import pandas as pd\n",
    "import numpy as np\n",
    "import matplotlib.pyplot as plt\n",
    "import seaborn as sns\n",
    "\n",
    "import warnings\n",
    "warnings.filterwarnings('ignore')\n",
    "\n",
    "pd.set_option('display.max_columns', None)\n",
    "pd.set_option('display.width', 10000)"
   ]
  },
  {
   "cell_type": "code",
   "execution_count": 2,
   "id": "967aa69d",
   "metadata": {},
   "outputs": [
    {
     "data": {
      "text/html": [
       "<div>\n",
       "<style scoped>\n",
       "    .dataframe tbody tr th:only-of-type {\n",
       "        vertical-align: middle;\n",
       "    }\n",
       "\n",
       "    .dataframe tbody tr th {\n",
       "        vertical-align: top;\n",
       "    }\n",
       "\n",
       "    .dataframe thead th {\n",
       "        text-align: right;\n",
       "    }\n",
       "</style>\n",
       "<table border=\"1\" class=\"dataframe\">\n",
       "  <thead>\n",
       "    <tr style=\"text-align: right;\">\n",
       "      <th></th>\n",
       "      <th>Date</th>\n",
       "      <th>Branch</th>\n",
       "      <th>Sales Agent</th>\n",
       "      <th>Products</th>\n",
       "      <th>Units</th>\n",
       "      <th>Price</th>\n",
       "    </tr>\n",
       "  </thead>\n",
       "  <tbody>\n",
       "    <tr>\n",
       "      <th>0</th>\n",
       "      <td>2014-09-01</td>\n",
       "      <td>Woji</td>\n",
       "      <td>Chinedu</td>\n",
       "      <td>Apple</td>\n",
       "      <td>2</td>\n",
       "      <td>125.00</td>\n",
       "    </tr>\n",
       "    <tr>\n",
       "      <th>1</th>\n",
       "      <td>2015-06-17</td>\n",
       "      <td>Woji</td>\n",
       "      <td>Emeka</td>\n",
       "      <td>Apple</td>\n",
       "      <td>5</td>\n",
       "      <td>125.00</td>\n",
       "    </tr>\n",
       "    <tr>\n",
       "      <th>2</th>\n",
       "      <td>2015-09-10</td>\n",
       "      <td>Woji</td>\n",
       "      <td>Ibrahim</td>\n",
       "      <td>Lenovo</td>\n",
       "      <td>7</td>\n",
       "      <td>1.29</td>\n",
       "    </tr>\n",
       "    <tr>\n",
       "      <th>3</th>\n",
       "      <td>2015-11-17</td>\n",
       "      <td>Woji</td>\n",
       "      <td>Tolu</td>\n",
       "      <td>HP</td>\n",
       "      <td>11</td>\n",
       "      <td>4.99</td>\n",
       "    </tr>\n",
       "    <tr>\n",
       "      <th>4</th>\n",
       "      <td>2015-10-31</td>\n",
       "      <td>Woji</td>\n",
       "      <td>Tonye</td>\n",
       "      <td>Lenovo</td>\n",
       "      <td>14</td>\n",
       "      <td>1.29</td>\n",
       "    </tr>\n",
       "  </tbody>\n",
       "</table>\n",
       "</div>"
      ],
      "text/plain": [
       "        Date Branch Sales Agent Products  Units   Price\n",
       "0 2014-09-01   Woji     Chinedu    Apple      2  125.00\n",
       "1 2015-06-17   Woji       Emeka    Apple      5  125.00\n",
       "2 2015-09-10   Woji     Ibrahim   Lenovo      7    1.29\n",
       "3 2015-11-17   Woji        Tolu       HP     11    4.99\n",
       "4 2015-10-31   Woji       Tonye   Lenovo     14    1.29"
      ]
     },
     "execution_count": 2,
     "metadata": {},
     "output_type": "execute_result"
    }
   ],
   "source": [
    "# Load in the dataset\n",
    "df = pd.read_excel(\"eletronic_sales.xlsx\")\n",
    "df.head()"
   ]
  },
  {
   "cell_type": "code",
   "execution_count": 3,
   "id": "0f05a130",
   "metadata": {},
   "outputs": [],
   "source": [
    "## What makes a dirty data?\n",
    "# Missing values\n",
    "\n",
    "# Duplicates\n",
    "# inconsistent data columns\n",
    "# wrong datatype ....>to change datatypes we use \".astype()\" ----> to check datatypes we use \"dtypes\"\n",
    "# incomplete data\n",
    "\n",
    "## Why do we need to clean data? We clean data to ensure\n",
    "# --->Data integrity, accuracy and consistency---->\n",
    "\n",
    "\n",
    "## Data anaysis pipeline\n",
    "#1. ETL (Extract, Transform and Load)\n",
    "#2. creating data model for visualization\n",
    "#3. building dashboard\n",
    "#4. Reporting and presentation\n",
    "\n",
    "## Data Science pipeline\n",
    "#1. Preliminary analysis\n",
    "#2. EDA Exploratory data analysis\n",
    "#3. Data cleaning\n",
    "#4. Analysis(Data Wrangling)\n",
    "#5. Data preprocessing and data mining\n",
    "#6. Building your model(prediction, forcasting, classification, clustering)\n",
    "#7. Reporting and visualization\n",
    "#8. Deployment\n",
    "#9. Maintenance and monitoring\n",
    "#10.Support and troubleshooting\n",
    "#----> Please note that from step2 to step5 is an iterative process that is dependent on step 6. Step 6 itself could also be iterative"
   ]
  },
  {
   "cell_type": "code",
   "execution_count": 4,
   "id": "077fa91f",
   "metadata": {},
   "outputs": [
    {
     "data": {
      "text/html": [
       "<div>\n",
       "<style scoped>\n",
       "    .dataframe tbody tr th:only-of-type {\n",
       "        vertical-align: middle;\n",
       "    }\n",
       "\n",
       "    .dataframe tbody tr th {\n",
       "        vertical-align: top;\n",
       "    }\n",
       "\n",
       "    .dataframe thead th {\n",
       "        text-align: right;\n",
       "    }\n",
       "</style>\n",
       "<table border=\"1\" class=\"dataframe\">\n",
       "  <thead>\n",
       "    <tr style=\"text-align: right;\">\n",
       "      <th></th>\n",
       "      <th>Date</th>\n",
       "      <th>Branch</th>\n",
       "      <th>Sales Agent</th>\n",
       "      <th>Products</th>\n",
       "      <th>Units</th>\n",
       "      <th>Price</th>\n",
       "    </tr>\n",
       "  </thead>\n",
       "  <tbody>\n",
       "    <tr>\n",
       "      <th>0</th>\n",
       "      <td>2014-09-01</td>\n",
       "      <td>Woji</td>\n",
       "      <td>Chinedu</td>\n",
       "      <td>Apple</td>\n",
       "      <td>2</td>\n",
       "      <td>125.00</td>\n",
       "    </tr>\n",
       "    <tr>\n",
       "      <th>1</th>\n",
       "      <td>2015-06-17</td>\n",
       "      <td>Woji</td>\n",
       "      <td>Emeka</td>\n",
       "      <td>Apple</td>\n",
       "      <td>5</td>\n",
       "      <td>125.00</td>\n",
       "    </tr>\n",
       "    <tr>\n",
       "      <th>2</th>\n",
       "      <td>2015-09-10</td>\n",
       "      <td>Woji</td>\n",
       "      <td>Ibrahim</td>\n",
       "      <td>Lenovo</td>\n",
       "      <td>7</td>\n",
       "      <td>1.29</td>\n",
       "    </tr>\n",
       "    <tr>\n",
       "      <th>3</th>\n",
       "      <td>2015-11-17</td>\n",
       "      <td>Woji</td>\n",
       "      <td>Tolu</td>\n",
       "      <td>HP</td>\n",
       "      <td>11</td>\n",
       "      <td>4.99</td>\n",
       "    </tr>\n",
       "    <tr>\n",
       "      <th>4</th>\n",
       "      <td>2015-10-31</td>\n",
       "      <td>Woji</td>\n",
       "      <td>Tonye</td>\n",
       "      <td>Lenovo</td>\n",
       "      <td>14</td>\n",
       "      <td>1.29</td>\n",
       "    </tr>\n",
       "  </tbody>\n",
       "</table>\n",
       "</div>"
      ],
      "text/plain": [
       "        Date Branch Sales Agent Products  Units   Price\n",
       "0 2014-09-01   Woji     Chinedu    Apple      2  125.00\n",
       "1 2015-06-17   Woji       Emeka    Apple      5  125.00\n",
       "2 2015-09-10   Woji     Ibrahim   Lenovo      7    1.29\n",
       "3 2015-11-17   Woji        Tolu       HP     11    4.99\n",
       "4 2015-10-31   Woji       Tonye   Lenovo     14    1.29"
      ]
     },
     "execution_count": 4,
     "metadata": {},
     "output_type": "execute_result"
    }
   ],
   "source": [
    "# View a snapshot of your dataset\n",
    "df.head()"
   ]
  },
  {
   "cell_type": "code",
   "execution_count": 5,
   "id": "f05e76d2",
   "metadata": {},
   "outputs": [],
   "source": [
    "# Do a little bit of feature engineering\n",
    "\n",
    "# add revenue column\n",
    "# To create a new column, you start with creating the new columns as a variable name\n",
    "\n",
    "# units X price = Revenue\n",
    "# units * price = Revenue\n",
    "\n",
    "df[\"Revenue\"] = df[\"Units\"] * df[\"Price\"]\n",
    "\n",
    "#  Round(parameter,2)\n",
    "df[\"Revenue(N)\"] = round(df[\"Units\"] * df[\"Price\"] * 1000,2)"
   ]
  },
  {
   "cell_type": "markdown",
   "id": "18461d64",
   "metadata": {},
   "source": [
    "**Feature Engineering**\n",
    "* Explanation:\n",
    "\n",
    "Feature Engineering- This means 3 things, one is useful here and the other two for machine learning. Feature engineering in this context, has to do with creating a new feature or column by combining, extracting or simply doing calculation on an existing column or feature."
   ]
  },
  {
   "cell_type": "code",
   "execution_count": 6,
   "id": "8a279964",
   "metadata": {},
   "outputs": [
    {
     "data": {
      "text/html": [
       "<div>\n",
       "<style scoped>\n",
       "    .dataframe tbody tr th:only-of-type {\n",
       "        vertical-align: middle;\n",
       "    }\n",
       "\n",
       "    .dataframe tbody tr th {\n",
       "        vertical-align: top;\n",
       "    }\n",
       "\n",
       "    .dataframe thead th {\n",
       "        text-align: right;\n",
       "    }\n",
       "</style>\n",
       "<table border=\"1\" class=\"dataframe\">\n",
       "  <thead>\n",
       "    <tr style=\"text-align: right;\">\n",
       "      <th></th>\n",
       "      <th>Date</th>\n",
       "      <th>Branch</th>\n",
       "      <th>Sales Agent</th>\n",
       "      <th>Products</th>\n",
       "      <th>Units</th>\n",
       "      <th>Price</th>\n",
       "      <th>Revenue</th>\n",
       "      <th>Revenue(N)</th>\n",
       "    </tr>\n",
       "  </thead>\n",
       "  <tbody>\n",
       "    <tr>\n",
       "      <th>0</th>\n",
       "      <td>2014-09-01</td>\n",
       "      <td>Woji</td>\n",
       "      <td>Chinedu</td>\n",
       "      <td>Apple</td>\n",
       "      <td>2</td>\n",
       "      <td>125.00</td>\n",
       "      <td>250.00</td>\n",
       "      <td>250000.0</td>\n",
       "    </tr>\n",
       "    <tr>\n",
       "      <th>1</th>\n",
       "      <td>2015-06-17</td>\n",
       "      <td>Woji</td>\n",
       "      <td>Emeka</td>\n",
       "      <td>Apple</td>\n",
       "      <td>5</td>\n",
       "      <td>125.00</td>\n",
       "      <td>625.00</td>\n",
       "      <td>625000.0</td>\n",
       "    </tr>\n",
       "    <tr>\n",
       "      <th>2</th>\n",
       "      <td>2015-09-10</td>\n",
       "      <td>Woji</td>\n",
       "      <td>Ibrahim</td>\n",
       "      <td>Lenovo</td>\n",
       "      <td>7</td>\n",
       "      <td>1.29</td>\n",
       "      <td>9.03</td>\n",
       "      <td>9030.0</td>\n",
       "    </tr>\n",
       "    <tr>\n",
       "      <th>3</th>\n",
       "      <td>2015-11-17</td>\n",
       "      <td>Woji</td>\n",
       "      <td>Tolu</td>\n",
       "      <td>HP</td>\n",
       "      <td>11</td>\n",
       "      <td>4.99</td>\n",
       "      <td>54.89</td>\n",
       "      <td>54890.0</td>\n",
       "    </tr>\n",
       "    <tr>\n",
       "      <th>4</th>\n",
       "      <td>2015-10-31</td>\n",
       "      <td>Woji</td>\n",
       "      <td>Tonye</td>\n",
       "      <td>Lenovo</td>\n",
       "      <td>14</td>\n",
       "      <td>1.29</td>\n",
       "      <td>18.06</td>\n",
       "      <td>18060.0</td>\n",
       "    </tr>\n",
       "  </tbody>\n",
       "</table>\n",
       "</div>"
      ],
      "text/plain": [
       "        Date Branch Sales Agent Products  Units   Price  Revenue  Revenue(N)\n",
       "0 2014-09-01   Woji     Chinedu    Apple      2  125.00   250.00    250000.0\n",
       "1 2015-06-17   Woji       Emeka    Apple      5  125.00   625.00    625000.0\n",
       "2 2015-09-10   Woji     Ibrahim   Lenovo      7    1.29     9.03      9030.0\n",
       "3 2015-11-17   Woji        Tolu       HP     11    4.99    54.89     54890.0\n",
       "4 2015-10-31   Woji       Tonye   Lenovo     14    1.29    18.06     18060.0"
      ]
     },
     "execution_count": 6,
     "metadata": {},
     "output_type": "execute_result"
    }
   ],
   "source": [
    "# view to see if the changes has been effected\n",
    "df.head()"
   ]
  },
  {
   "cell_type": "code",
   "execution_count": 7,
   "id": "e40c480f",
   "metadata": {},
   "outputs": [
    {
     "data": {
      "text/plain": [
       "Date           datetime64[ns]\n",
       "Branch                 object\n",
       "Sales Agent            object\n",
       "Products               object\n",
       "Units                   int64\n",
       "Price                 float64\n",
       "Revenue               float64\n",
       "Revenue(N)            float64\n",
       "dtype: object"
      ]
     },
     "execution_count": 7,
     "metadata": {},
     "output_type": "execute_result"
    }
   ],
   "source": [
    "# let check data types\n",
    "df.dtypes"
   ]
  },
  {
   "cell_type": "code",
   "execution_count": 8,
   "id": "5eee6b63",
   "metadata": {},
   "outputs": [],
   "source": [
    "# lets convert the date column to datatime\n",
    "# Using \"pd.to_datetime()\"function\n",
    "\n",
    "# to_datatime()\n",
    "\n",
    "# datetime()\n",
    "df[\"Date\"] = pd.to_datetime(df[\"Date\"])"
   ]
  },
  {
   "cell_type": "code",
   "execution_count": 9,
   "id": "973103da",
   "metadata": {},
   "outputs": [
    {
     "data": {
      "text/plain": [
       "Date           datetime64[ns]\n",
       "Branch                 object\n",
       "Sales Agent            object\n",
       "Products               object\n",
       "Units                   int64\n",
       "Price                 float64\n",
       "Revenue               float64\n",
       "Revenue(N)            float64\n",
       "dtype: object"
      ]
     },
     "execution_count": 9,
     "metadata": {},
     "output_type": "execute_result"
    }
   ],
   "source": [
    "# lets check our data types\n",
    "df.dtypes"
   ]
  },
  {
   "cell_type": "code",
   "execution_count": 10,
   "id": "a17f1e4d",
   "metadata": {},
   "outputs": [
    {
     "data": {
      "text/plain": [
       "<Axes: xlabel='Data Types', ylabel='Count'>"
      ]
     },
     "execution_count": 10,
     "metadata": {},
     "output_type": "execute_result"
    },
    {
     "data": {
      "image/png": "[encoded data removed]",
      "text/plain": [
       "<Figure size 640x480 with 1 Axes>"
      ]
     },
     "metadata": {},
     "output_type": "display_data"
    }
   ],
   "source": [
    "# lets just plot this, its not important though.\n",
    "df.dtypes.value_counts().plot(kind=\"bar\", xlabel= \"Data Types\", ylabel= \"Count\")"
   ]
  },
  {
   "cell_type": "code",
   "execution_count": 11,
   "id": "db23fc70",
   "metadata": {},
   "outputs": [],
   "source": [
    "# Lets do more feature engineering\n",
    "\n",
    "# lets work on our datetime to extract the month, year and week name\n",
    "# Using \".dt.year\",\".dt.month_name()\",\".day_name()\"\n",
    "\n",
    "df[\"Year\"] = df[\"Date\"].dt.year\n",
    "df[\"Month\"] = df[\"Date\"].dt.month_name()\n",
    "df[\"Day\"] = df['Date'].dt.day_name()"
   ]
  },
  {
   "cell_type": "code",
   "execution_count": 12,
   "id": "264f91d9",
   "metadata": {},
   "outputs": [
    {
     "data": {
      "text/html": [
       "<div>\n",
       "<style scoped>\n",
       "    .dataframe tbody tr th:only-of-type {\n",
       "        vertical-align: middle;\n",
       "    }\n",
       "\n",
       "    .dataframe tbody tr th {\n",
       "        vertical-align: top;\n",
       "    }\n",
       "\n",
       "    .dataframe thead th {\n",
       "        text-align: right;\n",
       "    }\n",
       "</style>\n",
       "<table border=\"1\" class=\"dataframe\">\n",
       "  <thead>\n",
       "    <tr style=\"text-align: right;\">\n",
       "      <th></th>\n",
       "      <th>Date</th>\n",
       "      <th>Branch</th>\n",
       "      <th>Sales Agent</th>\n",
       "      <th>Products</th>\n",
       "      <th>Units</th>\n",
       "      <th>Price</th>\n",
       "      <th>Revenue</th>\n",
       "      <th>Revenue(N)</th>\n",
       "      <th>Year</th>\n",
       "      <th>Month</th>\n",
       "      <th>Day</th>\n",
       "    </tr>\n",
       "  </thead>\n",
       "  <tbody>\n",
       "    <tr>\n",
       "      <th>0</th>\n",
       "      <td>2014-09-01</td>\n",
       "      <td>Woji</td>\n",
       "      <td>Chinedu</td>\n",
       "      <td>Apple</td>\n",
       "      <td>2</td>\n",
       "      <td>125.00</td>\n",
       "      <td>250.00</td>\n",
       "      <td>250000.0</td>\n",
       "      <td>2014</td>\n",
       "      <td>September</td>\n",
       "      <td>Monday</td>\n",
       "    </tr>\n",
       "    <tr>\n",
       "      <th>1</th>\n",
       "      <td>2015-06-17</td>\n",
       "      <td>Woji</td>\n",
       "      <td>Emeka</td>\n",
       "      <td>Apple</td>\n",
       "      <td>5</td>\n",
       "      <td>125.00</td>\n",
       "      <td>625.00</td>\n",
       "      <td>625000.0</td>\n",
       "      <td>2015</td>\n",
       "      <td>June</td>\n",
       "      <td>Wednesday</td>\n",
       "    </tr>\n",
       "    <tr>\n",
       "      <th>2</th>\n",
       "      <td>2015-09-10</td>\n",
       "      <td>Woji</td>\n",
       "      <td>Ibrahim</td>\n",
       "      <td>Lenovo</td>\n",
       "      <td>7</td>\n",
       "      <td>1.29</td>\n",
       "      <td>9.03</td>\n",
       "      <td>9030.0</td>\n",
       "      <td>2015</td>\n",
       "      <td>September</td>\n",
       "      <td>Thursday</td>\n",
       "    </tr>\n",
       "    <tr>\n",
       "      <th>3</th>\n",
       "      <td>2015-11-17</td>\n",
       "      <td>Woji</td>\n",
       "      <td>Tolu</td>\n",
       "      <td>HP</td>\n",
       "      <td>11</td>\n",
       "      <td>4.99</td>\n",
       "      <td>54.89</td>\n",
       "      <td>54890.0</td>\n",
       "      <td>2015</td>\n",
       "      <td>November</td>\n",
       "      <td>Tuesday</td>\n",
       "    </tr>\n",
       "    <tr>\n",
       "      <th>4</th>\n",
       "      <td>2015-10-31</td>\n",
       "      <td>Woji</td>\n",
       "      <td>Tonye</td>\n",
       "      <td>Lenovo</td>\n",
       "      <td>14</td>\n",
       "      <td>1.29</td>\n",
       "      <td>18.06</td>\n",
       "      <td>18060.0</td>\n",
       "      <td>2015</td>\n",
       "      <td>October</td>\n",
       "      <td>Saturday</td>\n",
       "    </tr>\n",
       "  </tbody>\n",
       "</table>\n",
       "</div>"
      ],
      "text/plain": [
       "        Date Branch Sales Agent Products  Units   Price  Revenue  Revenue(N)  Year      Month        Day\n",
       "0 2014-09-01   Woji     Chinedu    Apple      2  125.00   250.00    250000.0  2014  September     Monday\n",
       "1 2015-06-17   Woji       Emeka    Apple      5  125.00   625.00    625000.0  2015       June  Wednesday\n",
       "2 2015-09-10   Woji     Ibrahim   Lenovo      7    1.29     9.03      9030.0  2015  September   Thursday\n",
       "3 2015-11-17   Woji        Tolu       HP     11    4.99    54.89     54890.0  2015   November    Tuesday\n",
       "4 2015-10-31   Woji       Tonye   Lenovo     14    1.29    18.06     18060.0  2015    October   Saturday"
      ]
     },
     "execution_count": 12,
     "metadata": {},
     "output_type": "execute_result"
    }
   ],
   "source": [
    "# df.drop('week', axis=11, inplace=True)\n",
    "df.head()"
   ]
  },
  {
   "cell_type": "markdown",
   "id": "440fb1cc",
   "metadata": {},
   "source": [
    "#2.0 Steps to Analysis\n",
    "**Note:** This is after you have followed the ETL(Extract Transform Load) frame work, this is you importing your dataset, cleaning and preparing it for analysis\n",
    "\n",
    "### A. Work on the KPI's (Key performance index of this data)\n",
    "1. Total units sold\n",
    "2. Total Revenue\n",
    "3. Average Revenue per unit\n",
    "4. Numbers of products\n",
    "5. Numbers of Sales Agents\n",
    "\n",
    "### B. Work on the insights by creating models(Note that creating models in data analysis is different from building models in machine learning)\n",
    "1. Total monthly revenue by Year\n",
    "2. Total revenue by branch\n",
    "3. Total revenue by products\n",
    "4. Total revenue by sales agent\n",
    "5. Total revenue by week\n",
    "6. Total revenue by month\n",
    "7. Trends of sales\n",
    "\n",
    "### C. Build your dash board\n",
    "1. Add the title of your analysis.\n",
    "2. Add the business/company\n",
    "3. Add your KPI's\n",
    "4. Add Charts with appropriate labelling\n",
    "5. Add your slicer if you are working with streamlit or excel or PowerBi or Tableau to make your dashboard interactive(if not, exclude it)\n",
    "\n",
    "### C. Report your insights\n",
    "1. Start with the an executive summary briefly explaining what you and briefly introducing the KPI's.\n",
    "2. Explain your insights in a narative and relatable way using your visuals.\n",
    "\n",
    "### D. Make recommendation\n",
    "1. What should the business owner to increase monthly sales\n",
    "2. Which of the brannches should be given more attention\n",
    "3. Which products should be removed from the stock, which products should be purchased more\n",
    "4. Which of the sales agents should be given more incentives/promoted to sales managers position"
   ]
  },
  {
   "cell_type": "markdown",
   "id": "6d0948e4",
   "metadata": {},
   "source": [
    "##A. Work on the KPI's (Key performance index of this data)"
   ]
  },
  {
   "cell_type": "code",
   "execution_count": 13,
   "id": "0560cf25",
   "metadata": {},
   "outputs": [
    {
     "name": "stdout",
     "output_type": "stream",
     "text": [
      "Total goods sold: 2121\n"
     ]
    }
   ],
   "source": [
    "# 1. Total units sold\n",
    "Total_goods_sold = df[\"Units\"].sum()\n",
    "print(f\"Total goods sold: {Total_goods_sold}\")"
   ]
  },
  {
   "cell_type": "code",
   "execution_count": 14,
   "id": "d6d40b4e",
   "metadata": {},
   "outputs": [
    {
     "name": "stdout",
     "output_type": "stream",
     "text": [
      "Total revenue: N19627880.0\n"
     ]
    }
   ],
   "source": [
    "# 2. Total revenue\n",
    "Total_revenue = df[\"Revenue(N)\"].sum()\n",
    "print(f\"Total revenue: N{Total_revenue}\")"
   ]
  },
  {
   "cell_type": "code",
   "execution_count": 15,
   "id": "42d629c7",
   "metadata": {},
   "outputs": [
    {
     "name": "stdout",
     "output_type": "stream",
     "text": [
      "Average Revenue per unit: N9254.07\n"
     ]
    }
   ],
   "source": [
    "# 3. Average Revenue per unit\n",
    "# using \"round()function to approximate to 2 decimal place2\n",
    "Average_revenue_per_unit = round(Total_revenue / Total_goods_sold, 2)\n",
    "print(f\"Average Revenue per unit: N{Average_revenue_per_unit}\")"
   ]
  },
  {
   "cell_type": "code",
   "execution_count": 16,
   "id": "520ea3ee",
   "metadata": {},
   "outputs": [
    {
     "name": "stdout",
     "output_type": "stream",
     "text": [
      "Numbers of product: 5\n"
     ]
    }
   ],
   "source": [
    "# 4. Numbers of products\n",
    "# using the .nunique() shows the numbers of unique values\n",
    "Numbers_of_products = df[\"Products\"].nunique()\n",
    "print(f\"Numbers of product: {Numbers_of_products}\")"
   ]
  },
  {
   "cell_type": "code",
   "execution_count": 17,
   "id": "59905486",
   "metadata": {},
   "outputs": [
    {
     "name": "stdout",
     "output_type": "stream",
     "text": [
      "Numbers of Sales Agents: 11\n"
     ]
    }
   ],
   "source": [
    "# 5. Numbers of Sales agents\n",
    "numbers_of_sales_agents = df[\"Sales Agent\"].nunique()\n",
    "print(f\"Numbers of Sales Agents: {numbers_of_sales_agents}\")"
   ]
  },
  {
   "cell_type": "markdown",
   "id": "c6187fb4",
   "metadata": {},
   "source": [
    "##B. work on the insights by creating models and plotting their charts."
   ]
  },
  {
   "cell_type": "code",
   "execution_count": 18,
   "id": "c9871cca",
   "metadata": {},
   "outputs": [
    {
     "data": {
      "text/html": [
       "<div>\n",
       "<style scoped>\n",
       "    .dataframe tbody tr th:only-of-type {\n",
       "        vertical-align: middle;\n",
       "    }\n",
       "\n",
       "    .dataframe tbody tr th {\n",
       "        vertical-align: top;\n",
       "    }\n",
       "\n",
       "    .dataframe thead th {\n",
       "        text-align: right;\n",
       "    }\n",
       "</style>\n",
       "<table border=\"1\" class=\"dataframe\">\n",
       "  <thead>\n",
       "    <tr style=\"text-align: right;\">\n",
       "      <th></th>\n",
       "      <th>Branch</th>\n",
       "      <th>Sales Agent</th>\n",
       "      <th>Products</th>\n",
       "      <th>Units</th>\n",
       "      <th>Price</th>\n",
       "      <th>Revenue</th>\n",
       "      <th>Revenue(N)</th>\n",
       "      <th>Year</th>\n",
       "      <th>Month</th>\n",
       "      <th>Day</th>\n",
       "    </tr>\n",
       "    <tr>\n",
       "      <th>Date</th>\n",
       "      <th></th>\n",
       "      <th></th>\n",
       "      <th></th>\n",
       "      <th></th>\n",
       "      <th></th>\n",
       "      <th></th>\n",
       "      <th></th>\n",
       "      <th></th>\n",
       "      <th></th>\n",
       "      <th></th>\n",
       "    </tr>\n",
       "  </thead>\n",
       "  <tbody>\n",
       "    <tr>\n",
       "      <th>2014-09-01</th>\n",
       "      <td>Woji</td>\n",
       "      <td>Chinedu</td>\n",
       "      <td>Apple</td>\n",
       "      <td>2</td>\n",
       "      <td>125.00</td>\n",
       "      <td>250.00</td>\n",
       "      <td>250000.0</td>\n",
       "      <td>2014</td>\n",
       "      <td>September</td>\n",
       "      <td>Monday</td>\n",
       "    </tr>\n",
       "    <tr>\n",
       "      <th>2015-06-17</th>\n",
       "      <td>Woji</td>\n",
       "      <td>Emeka</td>\n",
       "      <td>Apple</td>\n",
       "      <td>5</td>\n",
       "      <td>125.00</td>\n",
       "      <td>625.00</td>\n",
       "      <td>625000.0</td>\n",
       "      <td>2015</td>\n",
       "      <td>June</td>\n",
       "      <td>Wednesday</td>\n",
       "    </tr>\n",
       "    <tr>\n",
       "      <th>2015-09-10</th>\n",
       "      <td>Woji</td>\n",
       "      <td>Ibrahim</td>\n",
       "      <td>Lenovo</td>\n",
       "      <td>7</td>\n",
       "      <td>1.29</td>\n",
       "      <td>9.03</td>\n",
       "      <td>9030.0</td>\n",
       "      <td>2015</td>\n",
       "      <td>September</td>\n",
       "      <td>Thursday</td>\n",
       "    </tr>\n",
       "    <tr>\n",
       "      <th>2015-11-17</th>\n",
       "      <td>Woji</td>\n",
       "      <td>Tolu</td>\n",
       "      <td>HP</td>\n",
       "      <td>11</td>\n",
       "      <td>4.99</td>\n",
       "      <td>54.89</td>\n",
       "      <td>54890.0</td>\n",
       "      <td>2015</td>\n",
       "      <td>November</td>\n",
       "      <td>Tuesday</td>\n",
       "    </tr>\n",
       "    <tr>\n",
       "      <th>2015-10-31</th>\n",
       "      <td>Woji</td>\n",
       "      <td>Tonye</td>\n",
       "      <td>Lenovo</td>\n",
       "      <td>14</td>\n",
       "      <td>1.29</td>\n",
       "      <td>18.06</td>\n",
       "      <td>18060.0</td>\n",
       "      <td>2015</td>\n",
       "      <td>October</td>\n",
       "      <td>Saturday</td>\n",
       "    </tr>\n",
       "  </tbody>\n",
       "</table>\n",
       "</div>"
      ],
      "text/plain": [
       "           Branch Sales Agent Products  Units   Price  Revenue  Revenue(N)  Year      Month        Day\n",
       "Date                                                                                                  \n",
       "2014-09-01   Woji     Chinedu    Apple      2  125.00   250.00    250000.0  2014  September     Monday\n",
       "2015-06-17   Woji       Emeka    Apple      5  125.00   625.00    625000.0  2015       June  Wednesday\n",
       "2015-09-10   Woji     Ibrahim   Lenovo      7    1.29     9.03      9030.0  2015  September   Thursday\n",
       "2015-11-17   Woji        Tolu       HP     11    4.99    54.89     54890.0  2015   November    Tuesday\n",
       "2015-10-31   Woji       Tonye   Lenovo     14    1.29    18.06     18060.0  2015    October   Saturday"
      ]
     },
     "execution_count": 18,
     "metadata": {},
     "output_type": "execute_result"
    }
   ],
   "source": [
    "# Set index using the data column\n",
    "df.set_index(\"Date\", inplace=True)\n",
    "df.head()"
   ]
  },
  {
   "cell_type": "markdown",
   "id": "b797d671",
   "metadata": {},
   "source": [
    "Class Task1: Calculate the Total Monthly revenue for year 2015 and plot the chart using 3 visualization packages in python"
   ]
  },
  {
   "cell_type": "code",
   "execution_count": 19,
   "id": "dd23be26",
   "metadata": {},
   "outputs": [
    {
     "data": {
      "text/plain": [
       "array([2014, 2015], dtype=int32)"
      ]
     },
     "execution_count": 19,
     "metadata": {},
     "output_type": "execute_result"
    }
   ],
   "source": [
    "df.Year.unique()"
   ]
  },
  {
   "cell_type": "code",
   "execution_count": 20,
   "id": "c5507bb0",
   "metadata": {},
   "outputs": [],
   "source": [
    "sales_2015 = df[df[\"Year\"] == 2015]"
   ]
  },
  {
   "cell_type": "code",
   "execution_count": 21,
   "id": "1df778ae",
   "metadata": {},
   "outputs": [
    {
     "data": {
      "text/html": [
       "<div>\n",
       "<style scoped>\n",
       "    .dataframe tbody tr th:only-of-type {\n",
       "        vertical-align: middle;\n",
       "    }\n",
       "\n",
       "    .dataframe tbody tr th {\n",
       "        vertical-align: top;\n",
       "    }\n",
       "\n",
       "    .dataframe thead th {\n",
       "        text-align: right;\n",
       "    }\n",
       "</style>\n",
       "<table border=\"1\" class=\"dataframe\">\n",
       "  <thead>\n",
       "    <tr style=\"text-align: right;\">\n",
       "      <th></th>\n",
       "      <th>Branch</th>\n",
       "      <th>Sales Agent</th>\n",
       "      <th>Products</th>\n",
       "      <th>Units</th>\n",
       "      <th>Price</th>\n",
       "      <th>Revenue</th>\n",
       "      <th>Revenue(N)</th>\n",
       "      <th>Year</th>\n",
       "      <th>Month</th>\n",
       "      <th>Day</th>\n",
       "    </tr>\n",
       "    <tr>\n",
       "      <th>Date</th>\n",
       "      <th></th>\n",
       "      <th></th>\n",
       "      <th></th>\n",
       "      <th></th>\n",
       "      <th></th>\n",
       "      <th></th>\n",
       "      <th></th>\n",
       "      <th></th>\n",
       "      <th></th>\n",
       "      <th></th>\n",
       "    </tr>\n",
       "  </thead>\n",
       "  <tbody>\n",
       "    <tr>\n",
       "      <th>2015-06-17</th>\n",
       "      <td>Woji</td>\n",
       "      <td>Emeka</td>\n",
       "      <td>Apple</td>\n",
       "      <td>5</td>\n",
       "      <td>125.00</td>\n",
       "      <td>625.00</td>\n",
       "      <td>625000.0</td>\n",
       "      <td>2015</td>\n",
       "      <td>June</td>\n",
       "      <td>Wednesday</td>\n",
       "    </tr>\n",
       "    <tr>\n",
       "      <th>2015-09-10</th>\n",
       "      <td>Woji</td>\n",
       "      <td>Ibrahim</td>\n",
       "      <td>Lenovo</td>\n",
       "      <td>7</td>\n",
       "      <td>1.29</td>\n",
       "      <td>9.03</td>\n",
       "      <td>9030.0</td>\n",
       "      <td>2015</td>\n",
       "      <td>September</td>\n",
       "      <td>Thursday</td>\n",
       "    </tr>\n",
       "    <tr>\n",
       "      <th>2015-11-17</th>\n",
       "      <td>Woji</td>\n",
       "      <td>Tolu</td>\n",
       "      <td>HP</td>\n",
       "      <td>11</td>\n",
       "      <td>4.99</td>\n",
       "      <td>54.89</td>\n",
       "      <td>54890.0</td>\n",
       "      <td>2015</td>\n",
       "      <td>November</td>\n",
       "      <td>Tuesday</td>\n",
       "    </tr>\n",
       "    <tr>\n",
       "      <th>2015-10-31</th>\n",
       "      <td>Woji</td>\n",
       "      <td>Tonye</td>\n",
       "      <td>Lenovo</td>\n",
       "      <td>14</td>\n",
       "      <td>1.29</td>\n",
       "      <td>18.06</td>\n",
       "      <td>18060.0</td>\n",
       "      <td>2015</td>\n",
       "      <td>October</td>\n",
       "      <td>Saturday</td>\n",
       "    </tr>\n",
       "    <tr>\n",
       "      <th>2015-12-21</th>\n",
       "      <td>Woji</td>\n",
       "      <td>Tonye</td>\n",
       "      <td>HP</td>\n",
       "      <td>28</td>\n",
       "      <td>4.99</td>\n",
       "      <td>139.72</td>\n",
       "      <td>139720.0</td>\n",
       "      <td>2015</td>\n",
       "      <td>December</td>\n",
       "      <td>Monday</td>\n",
       "    </tr>\n",
       "  </tbody>\n",
       "</table>\n",
       "</div>"
      ],
      "text/plain": [
       "           Branch Sales Agent Products  Units   Price  Revenue  Revenue(N)  Year      Month        Day\n",
       "Date                                                                                                  \n",
       "2015-06-17   Woji       Emeka    Apple      5  125.00   625.00    625000.0  2015       June  Wednesday\n",
       "2015-09-10   Woji     Ibrahim   Lenovo      7    1.29     9.03      9030.0  2015  September   Thursday\n",
       "2015-11-17   Woji        Tolu       HP     11    4.99    54.89     54890.0  2015   November    Tuesday\n",
       "2015-10-31   Woji       Tonye   Lenovo     14    1.29    18.06     18060.0  2015    October   Saturday\n",
       "2015-12-21   Woji       Tonye       HP     28    4.99   139.72    139720.0  2015   December     Monday"
      ]
     },
     "execution_count": 21,
     "metadata": {},
     "output_type": "execute_result"
    }
   ],
   "source": [
    "# 1.  Filtering\n",
    "# 2. Grouping\n",
    "# 3. Visuals\n",
    "\n",
    "# lets start analysing this dataset for insights\n",
    "\n",
    "# 1. Monthly revenue in 2015\n",
    "\n",
    "# step1: Filter for 2015\n",
    "\n",
    "sales_2015 = df[df['Year'] == 2015]\n",
    "sales_2015.head()"
   ]
  },
  {
   "cell_type": "code",
   "execution_count": 22,
   "id": "9a221c62",
   "metadata": {},
   "outputs": [
    {
     "data": {
      "text/plain": [
       "Month\n",
       "April         610380.0\n",
       "August       1830900.0\n",
       "December     2018780.0\n",
       "February     1324960.0\n",
       "January       413540.0\n",
       "July          996330.0\n",
       "June          625000.0\n",
       "March         389430.0\n",
       "May           787570.0\n",
       "November       54890.0\n",
       "October      1157490.0\n",
       "September     160270.0\n",
       "Name: Revenue(N), dtype: float64"
      ]
     },
     "execution_count": 22,
     "metadata": {},
     "output_type": "execute_result"
    }
   ],
   "source": [
    "# Step2:\n",
    "# I am using the .sort_index() to arrangement is done base on the index\n",
    "Total_monthly_revenue = sales_2015.groupby(\"Month\")[\"Revenue(N)\"].sum().sort_index()\n",
    "Total_monthly_revenue"
   ]
  },
  {
   "cell_type": "code",
   "execution_count": 23,
   "id": "4bf31275",
   "metadata": {},
   "outputs": [
    {
     "data": {
      "text/plain": [
       "Month\n",
       "December     2018780.0\n",
       "August       1830900.0\n",
       "February     1324960.0\n",
       "October      1157490.0\n",
       "July          996330.0\n",
       "May           787570.0\n",
       "June          625000.0\n",
       "April         610380.0\n",
       "January       413540.0\n",
       "March         389430.0\n",
       "September     160270.0\n",
       "November       54890.0\n",
       "Name: Revenue(N), dtype: float64"
      ]
     },
     "execution_count": 23,
     "metadata": {},
     "output_type": "execute_result"
    }
   ],
   "source": [
    "# I am using the .sort_value() to arrange the output, so the arrangement is done base on the values\n",
    "Total_monthly_revenue = sales_2015.groupby(\"Month\")[\"Revenue(N)\"].sum().sort_values(ascending=False)\n",
    "Total_monthly_revenue"
   ]
  },
  {
   "cell_type": "code",
   "execution_count": 24,
   "id": "c3860f29",
   "metadata": {},
   "outputs": [
    {
     "data": {
      "text/plain": [
       "<Axes: xlabel='Month', ylabel='Revenue(N)'>"
      ]
     },
     "execution_count": 24,
     "metadata": {},
     "output_type": "execute_result"
    },
    {
     "data": {
      "image/png": "[encoded data removed]",
      "text/plain": [
       "<Figure size 640x480 with 1 Axes>"
      ]
     },
     "metadata": {},
     "output_type": "display_data"
    }
   ],
   "source": [
    "# lets put this in a plot using pandas\n",
    "Total_monthly_revenue.plot(kind = \"bar\", xlabel = \"Month\", ylabel = \"Revenue(N)\")"
   ]
  },
  {
   "cell_type": "code",
   "execution_count": 25,
   "id": "ddc6e17a",
   "metadata": {},
   "outputs": [
    {
     "data": {
      "image/png": "[encoded data removed]",
      "text/plain": [
       "<Figure size 640x480 with 1 Axes>"
      ]
     },
     "metadata": {},
     "output_type": "display_data"
    }
   ],
   "source": [
    "# lets use mattplotlib\n",
    "plt.bar(Total_monthly_revenue.index, Total_monthly_revenue.values)\n",
    "plt.xlabel(\"Month\")\n",
    "plt.ylabel(\"Revenue(N)\")\n",
    "plt.title(\"Monthly Revenue in 2015\")\n",
    "plt.xticks(rotation = 45)\n",
    "plt.show()"
   ]
  },
  {
   "cell_type": "markdown",
   "id": "a934127c",
   "metadata": {},
   "source": [
    "Student Task1: Follow the same step and calculate the monthly revenue for 2014 and plot that charts using the 3 visualization packages in python."
   ]
  },
  {
   "cell_type": "code",
   "execution_count": 26,
   "id": "6266e934",
   "metadata": {},
   "outputs": [
    {
     "data": {
      "text/html": [
       "<div>\n",
       "<style scoped>\n",
       "    .dataframe tbody tr th:only-of-type {\n",
       "        vertical-align: middle;\n",
       "    }\n",
       "\n",
       "    .dataframe tbody tr th {\n",
       "        vertical-align: top;\n",
       "    }\n",
       "\n",
       "    .dataframe thead th {\n",
       "        text-align: right;\n",
       "    }\n",
       "</style>\n",
       "<table border=\"1\" class=\"dataframe\">\n",
       "  <thead>\n",
       "    <tr style=\"text-align: right;\">\n",
       "      <th></th>\n",
       "      <th>Branch</th>\n",
       "      <th>Sales Agent</th>\n",
       "      <th>Products</th>\n",
       "      <th>Units</th>\n",
       "      <th>Price</th>\n",
       "      <th>Revenue</th>\n",
       "      <th>Revenue(N)</th>\n",
       "      <th>Year</th>\n",
       "      <th>Month</th>\n",
       "      <th>Day</th>\n",
       "    </tr>\n",
       "    <tr>\n",
       "      <th>Date</th>\n",
       "      <th></th>\n",
       "      <th></th>\n",
       "      <th></th>\n",
       "      <th></th>\n",
       "      <th></th>\n",
       "      <th></th>\n",
       "      <th></th>\n",
       "      <th></th>\n",
       "      <th></th>\n",
       "      <th></th>\n",
       "    </tr>\n",
       "  </thead>\n",
       "  <tbody>\n",
       "    <tr>\n",
       "      <th>2014-09-01</th>\n",
       "      <td>Woji</td>\n",
       "      <td>Chinedu</td>\n",
       "      <td>Apple</td>\n",
       "      <td>2</td>\n",
       "      <td>125.00</td>\n",
       "      <td>250.00</td>\n",
       "      <td>250000.0</td>\n",
       "      <td>2014</td>\n",
       "      <td>September</td>\n",
       "      <td>Monday</td>\n",
       "    </tr>\n",
       "    <tr>\n",
       "      <th>2014-02-26</th>\n",
       "      <td>Woji</td>\n",
       "      <td>Ibrahim</td>\n",
       "      <td>Compaq</td>\n",
       "      <td>27</td>\n",
       "      <td>19.99</td>\n",
       "      <td>539.73</td>\n",
       "      <td>539730.0</td>\n",
       "      <td>2014</td>\n",
       "      <td>February</td>\n",
       "      <td>Wednesday</td>\n",
       "    </tr>\n",
       "    <tr>\n",
       "      <th>2014-10-05</th>\n",
       "      <td>Woji</td>\n",
       "      <td>George</td>\n",
       "      <td>HP</td>\n",
       "      <td>28</td>\n",
       "      <td>8.99</td>\n",
       "      <td>251.72</td>\n",
       "      <td>251720.0</td>\n",
       "      <td>2014</td>\n",
       "      <td>October</td>\n",
       "      <td>Sunday</td>\n",
       "    </tr>\n",
       "    <tr>\n",
       "      <th>2014-02-09</th>\n",
       "      <td>Woji</td>\n",
       "      <td>Tolu</td>\n",
       "      <td>Lenovo</td>\n",
       "      <td>36</td>\n",
       "      <td>4.99</td>\n",
       "      <td>179.64</td>\n",
       "      <td>179640.0</td>\n",
       "      <td>2014</td>\n",
       "      <td>February</td>\n",
       "      <td>Sunday</td>\n",
       "    </tr>\n",
       "    <tr>\n",
       "      <th>2014-01-23</th>\n",
       "      <td>Woji</td>\n",
       "      <td>Emeka</td>\n",
       "      <td>HP</td>\n",
       "      <td>50</td>\n",
       "      <td>19.99</td>\n",
       "      <td>999.50</td>\n",
       "      <td>999500.0</td>\n",
       "      <td>2014</td>\n",
       "      <td>January</td>\n",
       "      <td>Thursday</td>\n",
       "    </tr>\n",
       "  </tbody>\n",
       "</table>\n",
       "</div>"
      ],
      "text/plain": [
       "           Branch Sales Agent Products  Units   Price  Revenue  Revenue(N)  Year      Month        Day\n",
       "Date                                                                                                  \n",
       "2014-09-01   Woji     Chinedu    Apple      2  125.00   250.00    250000.0  2014  September     Monday\n",
       "2014-02-26   Woji     Ibrahim   Compaq     27   19.99   539.73    539730.0  2014   February  Wednesday\n",
       "2014-10-05   Woji      George       HP     28    8.99   251.72    251720.0  2014    October     Sunday\n",
       "2014-02-09   Woji        Tolu   Lenovo     36    4.99   179.64    179640.0  2014   February     Sunday\n",
       "2014-01-23   Woji       Emeka       HP     50   19.99   999.50    999500.0  2014    January   Thursday"
      ]
     },
     "execution_count": 26,
     "metadata": {},
     "output_type": "execute_result"
    }
   ],
   "source": [
    "sales_2014 = df[df[\"Year\"] == 2014]\n",
    "sales_2014.head()"
   ]
  },
  {
   "cell_type": "code",
   "execution_count": 27,
   "id": "424bf192",
   "metadata": {},
   "outputs": [
    {
     "data": {
      "text/plain": [
       "Month\n",
       "July         1676900.0\n",
       "December     1269690.0\n",
       "January      1188550.0\n",
       "June          988500.0\n",
       "October       827080.0\n",
       "November      778890.0\n",
       "February      719370.0\n",
       "May           512780.0\n",
       "September     505840.0\n",
       "April         448650.0\n",
       "August        174650.0\n",
       "March         167440.0\n",
       "Name: Revenue(N), dtype: float64"
      ]
     },
     "execution_count": 27,
     "metadata": {},
     "output_type": "execute_result"
    }
   ],
   "source": [
    "Total_monthly_revenue_2014 = sales_2014.groupby('Month')['Revenue(N)'].sum().sort_values(ascending=False)\n",
    "Total_monthly_revenue_2014"
   ]
  },
  {
   "cell_type": "code",
   "execution_count": 28,
   "id": "d906f243",
   "metadata": {},
   "outputs": [
    {
     "data": {
      "text/plain": [
       "<Axes: xlabel='Month', ylabel='Revenue(N)'>"
      ]
     },
     "execution_count": 28,
     "metadata": {},
     "output_type": "execute_result"
    },
    {
     "data": {
      "image/png": "[encoded data removed]",
      "text/plain": [
       "<Figure size 640x480 with 1 Axes>"
      ]
     },
     "metadata": {},
     "output_type": "display_data"
    }
   ],
   "source": [
    "# ploting using pandas\n",
    "Total_monthly_revenue_2014.plot(kind=\"bar\", xlabel=\"Month\", ylabel=\"Revenue(N)\")"
   ]
  },
  {
   "cell_type": "code",
   "execution_count": 29,
   "id": "4b534d8e",
   "metadata": {},
   "outputs": [
    {
     "data": {
      "image/png": "[encoded data removed]",
      "text/plain": [
       "<Figure size 640x480 with 1 Axes>"
      ]
     },
     "metadata": {},
     "output_type": "display_data"
    }
   ],
   "source": [
    "# ploting with plt\n",
    "plt.bar(Total_monthly_revenue_2014.index, Total_monthly_revenue_2014.values)\n",
    "plt.xlabel(\"Month\")\n",
    "plt.ylabel(\"Revenue(N)\")\n",
    "plt.title(\"Monthly Revenue in 2014\")\n",
    "plt.xticks(rotation = 40)\n",
    "plt.show()"
   ]
  },
  {
   "cell_type": "code",
   "execution_count": 30,
   "id": "2f723849",
   "metadata": {},
   "outputs": [
    {
     "data": {
      "text/plain": [
       "array(['Woji', 'GRA', 'Town'], dtype=object)"
      ]
     },
     "execution_count": 30,
     "metadata": {},
     "output_type": "execute_result"
    }
   ],
   "source": [
    "# 2. Total revenue by branch\n",
    "\n",
    "# let check the branches we have first\n",
    "df[\"Branch\"].unique()"
   ]
  },
  {
   "cell_type": "code",
   "execution_count": 31,
   "id": "bb084591",
   "metadata": {},
   "outputs": [
    {
     "data": {
      "text/plain": [
       "Branch\n",
       "Woji    11139070.0\n",
       "GRA      6002090.0\n",
       "Town     2486720.0\n",
       "Name: Revenue(N), dtype: float64"
      ]
     },
     "execution_count": 31,
     "metadata": {},
     "output_type": "execute_result"
    }
   ],
   "source": [
    "Total_revenue_by_branch = df.groupby(\"Branch\")[\"Revenue(N)\"].sum().sort_values(ascending=False)\n",
    "Total_revenue_by_branch"
   ]
  },
  {
   "cell_type": "code",
   "execution_count": 32,
   "id": "021bc372",
   "metadata": {},
   "outputs": [
    {
     "data": {
      "image/png": "[encoded data removed]",
      "text/plain": [
       "<Figure size 640x480 with 1 Axes>"
      ]
     },
     "metadata": {},
     "output_type": "display_data"
    }
   ],
   "source": [
    "# plot the chart for Total Revenue by branch using matplotlib\n",
    "plt.pie(Total_revenue_by_branch.values, labels=Total_revenue_by_branch.index, autopct='%1.1f%%')\n",
    "plt.xlabel(\"Branch\")\n",
    "plt.ylabel(\"Revenue(N)\")\n",
    "plt.title(\"Total Revenue by Branch\")\n",
    "plt.show()"
   ]
  },
  {
   "cell_type": "code",
   "execution_count": 33,
   "id": "45c14fbf",
   "metadata": {},
   "outputs": [
    {
     "data": {
      "text/plain": [
       "array(['Apple', 'Lenovo', 'HP', 'Compaq', 'Dell'], dtype=object)"
      ]
     },
     "execution_count": 33,
     "metadata": {},
     "output_type": "execute_result"
    }
   ],
   "source": [
    "# Total revenue by products\n",
    "# lets check the products available first\n",
    "df[\"Products\"].unique()"
   ]
  },
  {
   "cell_type": "code",
   "execution_count": 34,
   "id": "1efb4ee9",
   "metadata": {},
   "outputs": [
    {
     "data": {
      "text/plain": [
       "Products\n",
       "HP        9577650.0\n",
       "Dell      4169870.0\n",
       "Lenovo    2135140.0\n",
       "Compaq    2045220.0\n",
       "Apple     1700000.0\n",
       "Name: Revenue(N), dtype: float64"
      ]
     },
     "execution_count": 34,
     "metadata": {},
     "output_type": "execute_result"
    }
   ],
   "source": [
    "Total_revenue_by_product = df.groupby(\"Products\")[\"Revenue(N)\"].sum().sort_values(ascending=False)\n",
    "Total_revenue_by_product"
   ]
  },
  {
   "cell_type": "code",
   "execution_count": 35,
   "id": "de913679",
   "metadata": {},
   "outputs": [
    {
     "data": {
      "image/png": "[encoded data removed]",
      "text/plain": [
       "<Figure size 640x480 with 1 Axes>"
      ]
     },
     "metadata": {},
     "output_type": "display_data"
    }
   ],
   "source": [
    "# lets plot\n",
    "plt.pie(Total_revenue_by_product.values, labels=Total_revenue_by_product.index, autopct='%1.1f%%')\n",
    "plt.xlabel(\"Product\")\n",
    "plt.ylabel(\"Revenue(N)\")\n",
    "plt.title(\"Total revenue by Product\")\n",
    "plt.show()"
   ]
  },
  {
   "cell_type": "code",
   "execution_count": 36,
   "id": "3ee1628a",
   "metadata": {},
   "outputs": [
    {
     "data": {
      "text/plain": [
       "array(['Chinedu', 'Emeka', 'Ibrahim', 'Tolu', 'Tonye', 'George',\n",
       "       'Blessing', 'Chioma', 'Torbari', 'Uche', 'Tunde'], dtype=object)"
      ]
     },
     "execution_count": 36,
     "metadata": {},
     "output_type": "execute_result"
    }
   ],
   "source": [
    "# 3. Total revenue by sales agent\n",
    "\n",
    "# Lets check who our sales agents are\n",
    "df[\"Sales Agent\"].unique()"
   ]
  },
  {
   "cell_type": "code",
   "execution_count": 37,
   "id": "90f7c127",
   "metadata": {},
   "outputs": [
    {
     "data": {
      "text/plain": [
       "Sales Agent\n",
       "Emeka       3109440.0\n",
       "Chioma      3102300.0\n",
       "Tolu        2812190.0\n",
       "Blessing    2363040.0\n",
       "Ibrahim     1749870.0\n",
       "Chinedu     1641430.0\n",
       "George      1387770.0\n",
       "Uche        1283610.0\n",
       "Tunde       1203110.0\n",
       "Torbari      536750.0\n",
       "Tonye        438370.0\n",
       "Name: Revenue(N), dtype: float64"
      ]
     },
     "execution_count": 37,
     "metadata": {},
     "output_type": "execute_result"
    }
   ],
   "source": [
    "Total_revenue_by_sales_agent = df.groupby(\"Sales Agent\")[\"Revenue(N)\"].sum().sort_values(ascending=False)\n",
    "Total_revenue_by_sales_agent"
   ]
  },
  {
   "cell_type": "code",
   "execution_count": 38,
   "id": "5ae07538",
   "metadata": {},
   "outputs": [
    {
     "data": {
      "text/plain": [
       "<Axes: ylabel='Sales Agent'>"
      ]
     },
     "execution_count": 38,
     "metadata": {},
     "output_type": "execute_result"
    },
    {
     "data": {
      "image/png": "[encoded data removed]",
      "text/plain": [
       "<Figure size 640x480 with 1 Axes>"
      ]
     },
     "metadata": {},
     "output_type": "display_data"
    }
   ],
   "source": [
    "# lets plot using seaborn barchart\n",
    "sns.barplot(x = Total_revenue_by_sales_agent.values, y = Total_revenue_by_sales_agent.index, orient=\"h\")"
   ]
  },
  {
   "cell_type": "code",
   "execution_count": 46,
   "id": "472157ab",
   "metadata": {},
   "outputs": [
    {
     "data": {
      "text/plain": [
       "Day\n",
       "Monday       3515170.0\n",
       "Friday       3426630.0\n",
       "Tuesday      3388970.0\n",
       "Wednesday    3348580.0\n",
       "Sunday       3146200.0\n",
       "Thursday     1809960.0\n",
       "Saturday      992370.0\n",
       "Name: Revenue(N), dtype: float64"
      ]
     },
     "execution_count": 46,
     "metadata": {},
     "output_type": "execute_result"
    }
   ],
   "source": [
    "#4. Total revenue by week\n",
    "Total_revenue_by_week = df.groupby(\"Day\")[\"Revenue(N)\"].sum().sort_values(ascending=False)\n",
    "Total_revenue_by_week"
   ]
  },
  {
   "cell_type": "code",
   "execution_count": 47,
   "id": "d43fbd3e",
   "metadata": {},
   "outputs": [
    {
     "data": {
      "image/png": "[encoded data removed]",
      "text/plain": [
       "<Figure size 640x480 with 1 Axes>"
      ]
     },
     "metadata": {},
     "output_type": "display_data"
    }
   ],
   "source": [
    "# lets plot this using line chart\n",
    "plt.plot(Total_revenue_by_week.index, Total_revenue_by_week.values)\n",
    "plt.xlabel(\"Day\")\n",
    "plt.ylabel(\"Revenue(N)\")\n",
    "plt.title(\"Total Revenue by Day\")\n",
    "plt.show()"
   ]
  },
  {
   "cell_type": "code",
   "execution_count": 48,
   "id": "ea323850",
   "metadata": {},
   "outputs": [
    {
     "data": {
      "text/plain": [
       "Month\n",
       "December     3288470.0\n",
       "July         2673230.0\n",
       "February     2044330.0\n",
       "August       2005550.0\n",
       "October      1984570.0\n",
       "June         1613500.0\n",
       "January      1602090.0\n",
       "May          1300350.0\n",
       "April        1059030.0\n",
       "November      833780.0\n",
       "September     666110.0\n",
       "March         556870.0\n",
       "Name: Revenue(N), dtype: float64"
      ]
     },
     "execution_count": 48,
     "metadata": {},
     "output_type": "execute_result"
    }
   ],
   "source": [
    "# 5. Total revenue by month\n",
    "Total_revenue_by_month = df.groupby(\"Month\")[\"Revenue(N)\"].sum().sort_values(ascending=False)\n",
    "Total_revenue_by_month"
   ]
  },
  {
   "cell_type": "code",
   "execution_count": 50,
   "id": "49cd5ca6",
   "metadata": {},
   "outputs": [
    {
     "data": {
      "image/png": "[encoded data removed]",
      "text/plain": [
       "<Figure size 640x480 with 1 Axes>"
      ]
     },
     "metadata": {},
     "output_type": "display_data"
    }
   ],
   "source": [
    "# plot using searborn line chart\n",
    "sns.lineplot(x = Total_revenue_by_month.index, y = Total_revenue_by_month.values)\n",
    "plt.xlabel(\"Month\")\n",
    "plt.ylabel(\"Revenue(N)\")\n",
    "plt.xticks(rotation = 45)\n",
    "plt.title(\"Total Revenue by Month\")\n",
    "plt.show()"
   ]
  },
  {
   "cell_type": "code",
   "execution_count": null,
   "id": "9a9d537a",
   "metadata": {},
   "outputs": [
    {
     "data": {
      "text/html": [
       "<div>\n",
       "<style scoped>\n",
       "    .dataframe tbody tr th:only-of-type {\n",
       "        vertical-align: middle;\n",
       "    }\n",
       "\n",
       "    .dataframe tbody tr th {\n",
       "        vertical-align: top;\n",
       "    }\n",
       "\n",
       "    .dataframe thead th {\n",
       "        text-align: right;\n",
       "    }\n",
       "</style>\n",
       "<table border=\"1\" class=\"dataframe\">\n",
       "  <thead>\n",
       "    <tr style=\"text-align: right;\">\n",
       "      <th></th>\n",
       "      <th>Year</th>\n",
       "      <th>Month</th>\n",
       "      <th>Revenue(N)</th>\n",
       "    </tr>\n",
       "  </thead>\n",
       "  <tbody>\n",
       "    <tr>\n",
       "      <th>0</th>\n",
       "      <td>2014</td>\n",
       "      <td>April</td>\n",
       "      <td>448650.0</td>\n",
       "    </tr>\n",
       "    <tr>\n",
       "      <th>1</th>\n",
       "      <td>2014</td>\n",
       "      <td>August</td>\n",
       "      <td>174650.0</td>\n",
       "    </tr>\n",
       "    <tr>\n",
       "      <th>2</th>\n",
       "      <td>2014</td>\n",
       "      <td>December</td>\n",
       "      <td>1269690.0</td>\n",
       "    </tr>\n",
       "    <tr>\n",
       "      <th>3</th>\n",
       "      <td>2014</td>\n",
       "      <td>February</td>\n",
       "      <td>719370.0</td>\n",
       "    </tr>\n",
       "    <tr>\n",
       "      <th>4</th>\n",
       "      <td>2014</td>\n",
       "      <td>January</td>\n",
       "      <td>1188550.0</td>\n",
       "    </tr>\n",
       "    <tr>\n",
       "      <th>5</th>\n",
       "      <td>2014</td>\n",
       "      <td>July</td>\n",
       "      <td>1676900.0</td>\n",
       "    </tr>\n",
       "    <tr>\n",
       "      <th>6</th>\n",
       "      <td>2014</td>\n",
       "      <td>June</td>\n",
       "      <td>988500.0</td>\n",
       "    </tr>\n",
       "    <tr>\n",
       "      <th>7</th>\n",
       "      <td>2014</td>\n",
       "      <td>March</td>\n",
       "      <td>167440.0</td>\n",
       "    </tr>\n",
       "    <tr>\n",
       "      <th>8</th>\n",
       "      <td>2014</td>\n",
       "      <td>May</td>\n",
       "      <td>512780.0</td>\n",
       "    </tr>\n",
       "    <tr>\n",
       "      <th>9</th>\n",
       "      <td>2014</td>\n",
       "      <td>November</td>\n",
       "      <td>778890.0</td>\n",
       "    </tr>\n",
       "    <tr>\n",
       "      <th>10</th>\n",
       "      <td>2014</td>\n",
       "      <td>October</td>\n",
       "      <td>827080.0</td>\n",
       "    </tr>\n",
       "    <tr>\n",
       "      <th>11</th>\n",
       "      <td>2014</td>\n",
       "      <td>September</td>\n",
       "      <td>505840.0</td>\n",
       "    </tr>\n",
       "    <tr>\n",
       "      <th>12</th>\n",
       "      <td>2015</td>\n",
       "      <td>April</td>\n",
       "      <td>610380.0</td>\n",
       "    </tr>\n",
       "    <tr>\n",
       "      <th>13</th>\n",
       "      <td>2015</td>\n",
       "      <td>August</td>\n",
       "      <td>1830900.0</td>\n",
       "    </tr>\n",
       "    <tr>\n",
       "      <th>14</th>\n",
       "      <td>2015</td>\n",
       "      <td>December</td>\n",
       "      <td>2018780.0</td>\n",
       "    </tr>\n",
       "    <tr>\n",
       "      <th>15</th>\n",
       "      <td>2015</td>\n",
       "      <td>February</td>\n",
       "      <td>1324960.0</td>\n",
       "    </tr>\n",
       "    <tr>\n",
       "      <th>16</th>\n",
       "      <td>2015</td>\n",
       "      <td>January</td>\n",
       "      <td>413540.0</td>\n",
       "    </tr>\n",
       "    <tr>\n",
       "      <th>17</th>\n",
       "      <td>2015</td>\n",
       "      <td>July</td>\n",
       "      <td>996330.0</td>\n",
       "    </tr>\n",
       "    <tr>\n",
       "      <th>18</th>\n",
       "      <td>2015</td>\n",
       "      <td>June</td>\n",
       "      <td>625000.0</td>\n",
       "    </tr>\n",
       "    <tr>\n",
       "      <th>19</th>\n",
       "      <td>2015</td>\n",
       "      <td>March</td>\n",
       "      <td>389430.0</td>\n",
       "    </tr>\n",
       "    <tr>\n",
       "      <th>20</th>\n",
       "      <td>2015</td>\n",
       "      <td>May</td>\n",
       "      <td>787570.0</td>\n",
       "    </tr>\n",
       "    <tr>\n",
       "      <th>21</th>\n",
       "      <td>2015</td>\n",
       "      <td>November</td>\n",
       "      <td>54890.0</td>\n",
       "    </tr>\n",
       "    <tr>\n",
       "      <th>22</th>\n",
       "      <td>2015</td>\n",
       "      <td>October</td>\n",
       "      <td>1157490.0</td>\n",
       "    </tr>\n",
       "    <tr>\n",
       "      <th>23</th>\n",
       "      <td>2015</td>\n",
       "      <td>September</td>\n",
       "      <td>160270.0</td>\n",
       "    </tr>\n",
       "  </tbody>\n",
       "</table>\n",
       "</div>"
      ],
      "text/plain": [
       "    Year      Month  Revenue(N)\n",
       "0   2014      April    448650.0\n",
       "1   2014     August    174650.0\n",
       "2   2014   December   1269690.0\n",
       "3   2014   February    719370.0\n",
       "4   2014    January   1188550.0\n",
       "5   2014       July   1676900.0\n",
       "6   2014       June    988500.0\n",
       "7   2014      March    167440.0\n",
       "8   2014        May    512780.0\n",
       "9   2014   November    778890.0\n",
       "10  2014    October    827080.0\n",
       "11  2014  September    505840.0\n",
       "12  2015      April    610380.0\n",
       "13  2015     August   1830900.0\n",
       "14  2015   December   2018780.0\n",
       "15  2015   February   1324960.0\n",
       "16  2015    January    413540.0\n",
       "17  2015       July    996330.0\n",
       "18  2015       June    625000.0\n",
       "19  2015      March    389430.0\n",
       "20  2015        May    787570.0\n",
       "21  2015   November     54890.0\n",
       "22  2015    October   1157490.0\n",
       "23  2015  September    160270.0"
      ]
     },
     "execution_count": 53,
     "metadata": {},
     "output_type": "execute_result"
    }
   ],
   "source": [
    "# 6. Trends of sales\n",
    "Trends_of_sales_over_the_year = df.groupby([\"Year\", \"Month\"])[\"Revenue(N)\"].sum().reset_index()\n",
    "Trends_of_sales_over_the_year"
   ]
  },
  {
   "cell_type": "code",
   "execution_count": null,
   "id": "491f6bde",
   "metadata": {},
   "outputs": [
    {
     "data": {
      "text/plain": [
       "Text(0, 0.5, 'Revenue(N)')"
      ]
     },
     "execution_count": 59,
     "metadata": {},
     "output_type": "execute_result"
    },
    {
     "data": {
      "image/png": "[encoded data removed]",
      "text/plain": [
       "<Figure size 640x480 with 1 Axes>"
      ]
     },
     "metadata": {},
     "output_type": "display_data"
    }
   ],
   "source": [
    "# lets plot\n",
    "plt.plot(Trends_of_sales_over_the_year[\"Month\"], Trends_of_sales_over_the_year[\"Revenue(N)\"])\n",
    "plt.xticks(rotation = 40)\n",
    "plt.xlabel('Month')\n",
    "plt.ylabel('Revenue(N)')"
   ]
  },
  {
   "cell_type": "code",
   "execution_count": null,
   "id": "df197b81",
   "metadata": {},
   "outputs": [],
   "source": []
  }
 ],
 "metadata": {
  "kernelspec": {
   "display_name": "_task_env",
   "language": "python",
   "name": "python3"
  },
  "language_info": {
   "codemirror_mode": {
    "name": "ipython",
    "version": 3
   },
   "file_extension": ".py",
   "mimetype": "text/x-python",
   "name": "python",
   "nbconvert_exporter": "python",
   "pygments_lexer": "ipython3",
   "version": "3.13.5"
  }
 },
 "nbformat": 4,
 "nbformat_minor": 5
}

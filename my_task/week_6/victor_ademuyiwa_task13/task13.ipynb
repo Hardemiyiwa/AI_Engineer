{
 "cells": [
  {
   "cell_type": "markdown",
   "id": "75318c7f",
   "metadata": {},
   "source": [
    "#### Task 13 result"
   ]
  },
  {
   "cell_type": "code",
   "execution_count": 2,
   "id": "981f9e7e",
   "metadata": {},
   "outputs": [],
   "source": [
    "import numpy as np\n"
   ]
  },
  {
   "cell_type": "markdown",
   "id": "69722641",
   "metadata": {},
   "source": [
    "1. Creating a 6x6 Numpy array with random integers between 1 and 50. Display the array"
   ]
  },
  {
   "cell_type": "code",
   "execution_count": 3,
   "id": "4afa978a",
   "metadata": {},
   "outputs": [
    {
     "name": "stdout",
     "output_type": "stream",
     "text": [
      "[[47 37 33 47 35  8]\n",
      " [42 46 20 18  1 24]\n",
      " [47 24 14 26 13  2]\n",
      " [16 47 31  8 18 21]\n",
      " [10  9 31 15 11 22]\n",
      " [45 45  6 35 13 19]]\n"
     ]
    }
   ],
   "source": [
    "arr = np.random.randint(1, 51, size=(6, 6))\n",
    "print(arr)"
   ]
  },
  {
   "cell_type": "markdown",
   "id": "1b097024",
   "metadata": {},
   "source": [
    "2. Extract the following from the array you created in Question 1: The first two rows. The last three columns. All even numbers in the array."
   ]
  },
  {
   "cell_type": "code",
   "execution_count": 4,
   "id": "2f9580b1",
   "metadata": {},
   "outputs": [
    {
     "name": "stdout",
     "output_type": "stream",
     "text": [
      "First two row\n",
      " [[47 37 33 47 35  8]\n",
      " [42 46 20 18  1 24]]\n",
      "Last three column\n",
      " [[47 35  8]\n",
      " [18  1 24]\n",
      " [26 13  2]\n",
      " [ 8 18 21]\n",
      " [15 11 22]\n",
      " [35 13 19]]\n",
      "All even\n",
      " [ 8 42 46 20 18 24 24 14 26  2 16  8 18 10 22  6]\n"
     ]
    }
   ],
   "source": [
    "# The first two row\n",
    "print(\"First two row\\n\", arr[:2])\n",
    "\n",
    "# The last three column\n",
    "print(\"Last three column\\n\", arr[:, -3:])\n",
    "\n",
    "# All even number\n",
    "even_arr = arr[arr % 2 == 0]\n",
    "print(\"All even\\n\", even_arr)"
   ]
  },
  {
   "cell_type": "markdown",
   "id": "b964358a",
   "metadata": {},
   "source": [
    "3. Perform the following array transformations: Reshape the array into a 3D (3, 2, 6) array. Flatten the reshaped array back to 1D."
   ]
  },
  {
   "cell_type": "code",
   "execution_count": 5,
   "id": "af579cf3",
   "metadata": {},
   "outputs": [
    {
     "name": "stdout",
     "output_type": "stream",
     "text": [
      "Reshape array to 3D\n",
      " [[[47 37 33 47 35  8]\n",
      "  [42 46 20 18  1 24]]\n",
      "\n",
      " [[47 24 14 26 13  2]\n",
      "  [16 47 31  8 18 21]]\n",
      "\n",
      " [[10  9 31 15 11 22]\n",
      "  [45 45  6 35 13 19]]]\n",
      "flatten back to 1D\n",
      " [47 37 33 47 35  8 42 46 20 18  1 24 47 24 14 26 13  2 16 47 31  8 18 21\n",
      " 10  9 31 15 11 22 45 45  6 35 13 19]\n"
     ]
    }
   ],
   "source": [
    "reshape_3D = arr.reshape(3, 2, 6)\n",
    "print(\"Reshape array to 3D\\n\", reshape_3D)\n",
    "flatten_arr = reshape_3D.flatten()\n",
    "print(\"flatten back to 1D\\n\", flatten_arr)"
   ]
  },
  {
   "cell_type": "markdown",
   "id": "c4f1d20f",
   "metadata": {},
   "source": [
    "4. Generate a 4x4 identity matrix and replace the diagonal with numbers from 10 to 40, with a step of 10."
   ]
  },
  {
   "cell_type": "code",
   "execution_count": 6,
   "id": "3709a16e",
   "metadata": {},
   "outputs": [
    {
     "name": "stdout",
     "output_type": "stream",
     "text": [
      "Identity matrix:\n",
      " [[1. 0. 0. 0.]\n",
      " [0. 1. 0. 0.]\n",
      " [0. 0. 1. 0.]\n",
      " [0. 0. 0. 1.]]\n",
      "Diagonal matrix\n",
      " [[10.  0.  0.  0.]\n",
      " [ 0. 20.  0.  0.]\n",
      " [ 0.  0. 30.  0.]\n",
      " [ 0.  0.  0. 40.]]\n"
     ]
    }
   ],
   "source": [
    "# 4 x 4 identity matrix\n",
    "identity_matrix = np.eye(4)\n",
    "print(\"Identity matrix:\\n\", identity_matrix)\n",
    "\n",
    "# Replcaing the diagonal with number\n",
    "np.fill_diagonal(identity_matrix, [10, 20, 30, 40])\n",
    "print(\"Diagonal matrix\\n\", identity_matrix)"
   ]
  },
  {
   "cell_type": "markdown",
   "id": "d40ceaeb",
   "metadata": {},
   "source": [
    "5. Perform matrix multiplication between: A 3x4 matrix of random integers (1-10) A 4x3 matrix of random integers (1-10)"
   ]
  },
  {
   "cell_type": "code",
   "execution_count": 7,
   "id": "8630bd2e",
   "metadata": {},
   "outputs": [
    {
     "name": "stdout",
     "output_type": "stream",
     "text": [
      "Array product\n",
      " [[120 106  97]\n",
      " [208 159 200]\n",
      " [163 100 130]]\n"
     ]
    }
   ],
   "source": [
    "a_arr = np.random.randint(1, 11, size=(3, 4))\n",
    "b_arr = np.random.randint(1, 11, size=(4, 3))\n",
    "\n",
    "# Array product\n",
    "# product_arr = np.dot(a_arr, b_arr)\n",
    "# product_arr\n",
    "product_arr = a_arr @ b_arr\n",
    "print(\"Array product\\n\", product_arr)"
   ]
  },
  {
   "cell_type": "markdown",
   "id": "fcc4b351",
   "metadata": {},
   "source": [
    "6. Create a function that takes a 2D NumPy array as input and returns a new array where: All even numbers are squared. All odd numbers are replaced by -1."
   ]
  },
  {
   "cell_type": "code",
   "execution_count": 8,
   "id": "6d3a4b90",
   "metadata": {},
   "outputs": [
    {
     "name": "stdout",
     "output_type": "stream",
     "text": [
      "Array before operation\n",
      " [[18  6  2  9]\n",
      " [ 7 12  4 12]\n",
      " [10 10 16  1]]\n",
      "Array after operation\n",
      " [[324  36   4  -1]\n",
      " [ -1 144  16 144]\n",
      " [100 100 256  -1]]\n"
     ]
    }
   ],
   "source": [
    "def arr_even_sq_odd_minus_1(arr):\n",
    "    return np.where(arr % 2 == 0, arr **2, -1)\n",
    "\n",
    "arr = np.random.randint(1, 20, size=(3, 4))\n",
    "arr_opration = arr_even_sq_odd_minus_1(arr)\n",
    "\n",
    "print(\"Array before operation\\n\", arr)\n",
    "print(\"Array after operation\\n\", arr_opration)"
   ]
  }
 ],
 "metadata": {
  "kernelspec": {
   "display_name": "_task_env",
   "language": "python",
   "name": "python3"
  },
  "language_info": {
   "codemirror_mode": {
    "name": "ipython",
    "version": 3
   },
   "file_extension": ".py",
   "mimetype": "text/x-python",
   "name": "python",
   "nbconvert_exporter": "python",
   "pygments_lexer": "ipython3",
   "version": "3.13.5"
  }
 },
 "nbformat": 4,
 "nbformat_minor": 5
}

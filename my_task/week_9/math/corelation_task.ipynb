{
 "cells": [
  {
   "cell_type": "markdown",
   "id": "36d5350b",
   "metadata": {},
   "source": [
    "**Task:**\n",
    "\n",
    "Is the beef consumption in Argentina significantly different from that in Bangladesh?\n",
    "\n",
    "H₀: Mean beef consumption (Argentina) = Mean beef consumption (Bangladesh)\n",
    "\n",
    "H₁: Mean beef consumption (Argentina) ≠ Mean beef consumption (Bangladesh)"
   ]
  },
  {
   "cell_type": "code",
   "execution_count": 3,
   "id": "dda02ca0",
   "metadata": {},
   "outputs": [
    {
     "name": "stdout",
     "output_type": "stream",
     "text": [
      "Requirement already satisfied: gdown in c:\\users\\user234\\desktop\\ai_engineer\\_task_evn\\lib\\site-packages (5.2.0)\n",
      "Requirement already satisfied: beautifulsoup4 in c:\\users\\user234\\desktop\\ai_engineer\\_task_evn\\lib\\site-packages (from gdown) (4.14.2)\n",
      "Requirement already satisfied: filelock in c:\\users\\user234\\desktop\\ai_engineer\\_task_evn\\lib\\site-packages (from gdown) (3.19.1)\n",
      "Requirement already satisfied: requests[socks] in c:\\users\\user234\\desktop\\ai_engineer\\_task_evn\\lib\\site-packages (from gdown) (2.32.5)\n",
      "Requirement already satisfied: tqdm in c:\\users\\user234\\desktop\\ai_engineer\\_task_evn\\lib\\site-packages (from gdown) (4.67.1)\n",
      "Requirement already satisfied: soupsieve>1.2 in c:\\users\\user234\\desktop\\ai_engineer\\_task_evn\\lib\\site-packages (from beautifulsoup4->gdown) (2.8)\n",
      "Requirement already satisfied: typing-extensions>=4.0.0 in c:\\users\\user234\\desktop\\ai_engineer\\_task_evn\\lib\\site-packages (from beautifulsoup4->gdown) (4.15.0)\n",
      "Requirement already satisfied: charset_normalizer<4,>=2 in c:\\users\\user234\\desktop\\ai_engineer\\_task_evn\\lib\\site-packages (from requests[socks]->gdown) (3.4.3)\n",
      "Requirement already satisfied: idna<4,>=2.5 in c:\\users\\user234\\desktop\\ai_engineer\\_task_evn\\lib\\site-packages (from requests[socks]->gdown) (3.10)\n",
      "Requirement already satisfied: urllib3<3,>=1.21.1 in c:\\users\\user234\\desktop\\ai_engineer\\_task_evn\\lib\\site-packages (from requests[socks]->gdown) (2.5.0)\n",
      "Requirement already satisfied: certifi>=2017.4.17 in c:\\users\\user234\\desktop\\ai_engineer\\_task_evn\\lib\\site-packages (from requests[socks]->gdown) (2025.8.3)\n",
      "Requirement already satisfied: PySocks!=1.5.7,>=1.5.6 in c:\\users\\user234\\desktop\\ai_engineer\\_task_evn\\lib\\site-packages (from requests[socks]->gdown) (1.7.1)\n",
      "Requirement already satisfied: colorama in c:\\users\\user234\\desktop\\ai_engineer\\_task_evn\\lib\\site-packages (from tqdm->gdown) (0.4.6)\n",
      "Collecting scipy\n",
      "  Using cached scipy-1.16.2-cp313-cp313-win_amd64.whl.metadata (60 kB)\n",
      "Requirement already satisfied: numpy<2.6,>=1.25.2 in c:\\users\\user234\\desktop\\ai_engineer\\_task_evn\\lib\\site-packages (from scipy) (2.3.2)\n",
      "Using cached scipy-1.16.2-cp313-cp313-win_amd64.whl (38.5 MB)\n",
      "Installing collected packages: scipy\n",
      "Successfully installed scipy-1.16.2\n"
     ]
    }
   ],
   "source": [
    "!pip install gdown\n",
    "!pip install scipy\n",
    "import gdown"
   ]
  },
  {
   "cell_type": "code",
   "execution_count": 8,
   "id": "bc8b5aa1",
   "metadata": {},
   "outputs": [
    {
     "name": "stderr",
     "output_type": "stream",
     "text": [
      "Downloading...\n",
      "From: https://drive.google.com/uc?id=1yB5qSBOLl96Y563nIewKOU8RN_gsY3dO\n",
      "To: c:\\Users\\user234\\Desktop\\AI_Engineer\\my_task\\week_9\\math\\data.csv\n",
      "100%|██████████| 52.0k/52.0k [00:00<00:00, 625kB/s]\n"
     ]
    },
    {
     "data": {
      "text/plain": [
       "'data.csv'"
      ]
     },
     "execution_count": 8,
     "metadata": {},
     "output_type": "execute_result"
    }
   ],
   "source": [
    "file_id = '1yB5qSBOLl96Y563nIewKOU8RN_gsY3dO'  # Make sure it's a string\n",
    "gdown.download(f'https://drive.google.com/uc?id={file_id}', 'data.csv', quiet=False)"
   ]
  },
  {
   "cell_type": "code",
   "execution_count": 3,
   "id": "05e3c047",
   "metadata": {},
   "outputs": [],
   "source": [
    "import pandas as pd\n",
    "import numpy as np\n",
    "# from scipy import stats"
   ]
  },
  {
   "cell_type": "code",
   "execution_count": 4,
   "id": "aaef42d1",
   "metadata": {},
   "outputs": [],
   "source": [
    "df = pd.read_csv('data.csv')\n",
    "\n",
    "df. drop('Unnamed: 0', axis = 1, inplace = True)\n",
    "\n",
    "# Filtering Argentina and Bangladesh\n",
    "arg_beef = df[(df[\"country\"]==\"Argentina\") &  (df[\"food_category\"]==\"beef\")]\n",
    "ban_beef = df[(df[\"country\"]==\"Bangladesh\") &  (df[\"food_category\"]==\"beef\")]"
   ]
  },
  {
   "cell_type": "code",
   "execution_count": 5,
   "id": "7fd76a57",
   "metadata": {},
   "outputs": [
    {
     "name": "stdout",
     "output_type": "stream",
     "text": [
      "Mean Beef Consumption (Argentina): 55.48\n",
      "Mean Beef Consumption (Argentina): 1.28\n"
     ]
    }
   ],
   "source": [
    "arg_consump_mean = arg_beef['consumption'].mean()\n",
    "print(\"Mean Beef Consumption (Argentina):\", arg_consump_mean)\n",
    "\n",
    "ban_consump_mean = ban_beef['consumption'].mean()\n",
    "print(\"Mean Beef Consumption (Argentina):\", ban_consump_mean)"
   ]
  },
  {
   "cell_type": "code",
   "execution_count": 11,
   "id": "856899fb",
   "metadata": {},
   "outputs": [
    {
     "name": "stdout",
     "output_type": "stream",
     "text": [
      "arg_beef_samples\n",
      "[ -8.48996651  -8.55603941  -3.36038064   2.91277975   5.65244607\n",
      "  10.39964155   6.18701311   4.98716652  -2.72019527  -2.98395398\n",
      "   3.84824592  11.80539205   2.15401633   0.81677138   1.41011105\n",
      "   4.09716392 -11.33629998   2.73442431  -0.19219789  -0.81433471\n",
      "   3.14600696   1.92633135   0.92923335   2.00787407  -3.27107763\n",
      "  -1.43937261  -0.67372841  -7.44990328  -3.86780029   4.52917746]\n",
      "\n",
      "arg_beef_samples\n",
      "[ -8.48996651  -8.55603941  -3.36038064   2.91277975   5.65244607\n",
      "  10.39964155   6.18701311   4.98716652  -2.72019527  -2.98395398\n",
      "   3.84824592  11.80539205   2.15401633   0.81677138   1.41011105\n",
      "   4.09716392 -11.33629998   2.73442431  -0.19219789  -0.81433471\n",
      "   3.14600696   1.92633135   0.92923335   2.00787407  -3.27107763\n",
      "  -1.43937261  -0.67372841  -7.44990328  -3.86780029   4.52917746]\n"
     ]
    }
   ],
   "source": [
    "arg_beef_samples = np.random.normal(loc=arg_consump_mean, scale=5, size=30)\n",
    "ban_beef_samples = np.random.normal(loc=ban_consump_mean, scale=5, size=30)\n",
    "\n",
    "print(f\"arg_beef_samples\\n{ban_beef_samples}\\n\\narg_beef_samples\\n{ban_beef_samples}\")"
   ]
  },
  {
   "cell_type": "code",
   "execution_count": 13,
   "id": "dbbf76bd",
   "metadata": {},
   "outputs": [
    {
     "name": "stdout",
     "output_type": "stream",
     "text": [
      "T-statistic: 40.13679665412193\n",
      "\n",
      "p-value: 5.178881697277004e-44\n"
     ]
    }
   ],
   "source": [
    "# Two independent t-test\n",
    "t_test, p_value = stats.ttest_ind(arg_beef_samples, ban_beef_samples)\n",
    "\n",
    "print(f\"T-statistic: {t_test}\")\n",
    "print(\"\\np-value:\", p_value)"
   ]
  },
  {
   "cell_type": "markdown",
   "id": "68ee5faf",
   "metadata": {},
   "source": []
  }
 ],
 "metadata": {
  "kernelspec": {
   "display_name": "_task_evn",
   "language": "python",
   "name": "python3"
  },
  "language_info": {
   "codemirror_mode": {
    "name": "ipython",
    "version": 3
   },
   "file_extension": ".py",
   "mimetype": "text/x-python",
   "name": "python",
   "nbconvert_exporter": "python",
   "pygments_lexer": "ipython3",
   "version": "3.13.7"
  }
 },
 "nbformat": 4,
 "nbformat_minor": 5
}

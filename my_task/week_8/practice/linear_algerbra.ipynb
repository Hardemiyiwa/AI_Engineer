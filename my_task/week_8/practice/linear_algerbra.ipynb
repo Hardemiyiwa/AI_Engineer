{
 "cells": [
  {
   "cell_type": "code",
   "execution_count": 5,
   "id": "414e111b",
   "metadata": {},
   "outputs": [],
   "source": [
    "import numpy as np"
   ]
  },
  {
   "cell_type": "code",
   "execution_count": 6,
   "id": "85ea369a",
   "metadata": {},
   "outputs": [
    {
     "name": "stdout",
     "output_type": "stream",
     "text": [
      "total_score_per_student:\n",
      " [240 220 275 195 200]\n"
     ]
    }
   ],
   "source": [
    "student_grade = np.array([[80, 70, 90],\n",
    "                          [60, 85, 75],\n",
    "                          [95, 88, 92],\n",
    "                          [70, 60, 65],\n",
    "                          [55, 70, 75]])\n",
    "\n",
    "total_score_per_student = np.sum(student_grade, axis = 1)\n",
    "print(\"total_score_per_student:\\n\", total_score_per_student)\n"
   ]
  },
  {
   "cell_type": "code",
   "execution_count": 10,
   "id": "c09378f5",
   "metadata": {},
   "outputs": [
    {
     "data": {
      "text/plain": [
       "array([[80, 70, 90],\n",
       "       [60, 85, 75],\n",
       "       [95, 88, 92],\n",
       "       [70, 60, 65],\n",
       "       [55, 70, 75]])"
      ]
     },
     "execution_count": 10,
     "metadata": {},
     "output_type": "execute_result"
    }
   ],
   "source": [
    "student_grade"
   ]
  },
  {
   "cell_type": "code",
   "execution_count": null,
   "id": "929a3e59",
   "metadata": {},
   "outputs": [
    {
     "data": {
      "text/plain": [
       "array([2, 1, 1])"
      ]
     },
     "execution_count": 11,
     "metadata": {},
     "output_type": "execute_result"
    }
   ],
   "source": [
    "weights = np.array([2, 1, 1])\n",
    "weights"
   ]
  },
  {
   "cell_type": "code",
   "execution_count": 13,
   "id": "dfab2883",
   "metadata": {},
   "outputs": [
    {
     "name": "stdout",
     "output_type": "stream",
     "text": [
      "[[160  70  90]\n",
      " [120  85  75]\n",
      " [190  88  92]\n",
      " [140  60  65]\n",
      " [110  70  75]]\n"
     ]
    }
   ],
   "source": [
    "weights_grade = student_grade * weights\n",
    "print(weights_grade)"
   ]
  },
  {
   "cell_type": "code",
   "execution_count": null,
   "id": "01f2cf7c",
   "metadata": {},
   "outputs": [
    {
     "data": {
      "text/plain": [
       "array([72. , 74.6, 79.4])"
      ]
     },
     "execution_count": 19,
     "metadata": {},
     "output_type": "execute_result"
    }
   ],
   "source": [
    "avg_score_sbj = np.mean(weights_grade, axis=0)\n",
    "avg_score_sbj"
   ]
  },
  {
   "cell_type": "code",
   "execution_count": 22,
   "id": "265e6c23",
   "metadata": {},
   "outputs": [
    {
     "data": {
      "text/plain": [
       "array([119. , 100.5, 139.8, 101. ,  91. ])"
      ]
     },
     "execution_count": 22,
     "metadata": {},
     "output_type": "execute_result"
    }
   ],
   "source": [
    "weight = np.array([0.5, 0.3, 0.2])\n",
    "grade = weights_grade @ weight\n",
    "grade"
   ]
  },
  {
   "cell_type": "code",
   "execution_count": 24,
   "id": "bc28dbae",
   "metadata": {},
   "outputs": [
    {
     "data": {
      "text/plain": [
       "array([ 20, -15,  15])"
      ]
     },
     "execution_count": 24,
     "metadata": {},
     "output_type": "execute_result"
    }
   ],
   "source": [
    "student1 = np.array([80, 70, 90])\n",
    "student2 = np.array([60, 85, 75])\n",
    "\n",
    "difference = student1 - student2\n",
    "difference"
   ]
  },
  {
   "cell_type": "code",
   "execution_count": null,
   "id": "1fa2132d",
   "metadata": {},
   "outputs": [
    {
     "data": {
      "text/plain": [
       "array([[160,  70,  90],\n",
       "       [120,  85,  75],\n",
       "       [190,  88,  92],\n",
       "       [140,  60,  65],\n",
       "       [110,  70,  75]])"
      ]
     },
     "execution_count": 16,
     "metadata": {},
     "output_type": "execute_result"
    }
   ],
   "source": [
    "math_score = student_grade[:, 0]\n",
    "math_score *= 2\n",
    "student_grade\n",
    "# OR\n",
    "math_score = student_grade[:, 0].copy()\n",
    "math_score *= 2\n",
    "weights_student_grade = student_grade\n",
    "weights_student_grade[:, 0] = math_score"
   ]
  },
  {
   "cell_type": "code",
   "execution_count": null,
   "id": "b37b8bd3",
   "metadata": {},
   "outputs": [],
   "source": []
  },
  {
   "cell_type": "code",
   "execution_count": 17,
   "id": "b207cf08",
   "metadata": {},
   "outputs": [
    {
     "data": {
      "image/png": "[encoded data removed]",
      "text/plain": [
       "<Figure size 640x480 with 1 Axes>"
      ]
     },
     "metadata": {},
     "output_type": "display_data"
    }
   ],
   "source": [
    "import matplotlib.pyplot as plt\n",
    "\n",
    "# Students' scores\n",
    "student_grade = np.array([\n",
    "    [80, 70, 90],\n",
    "    [60, 85, 75],\n",
    "    [95, 88, 92],\n",
    "    [70, 60, 65],\n",
    "    [55, 70, 75]\n",
    "])\n",
    "\n",
    "# Subject weights (Math=2x importance)\n",
    "weights = np.array([2, 1, 1])\n",
    "\n",
    "# Weighted averages (using matrix multiplication)\n",
    "weighted_avg = (student_grade @ weights) / np.sum(weights)\n",
    "\n",
    "# Create labels for students\n",
    "students = [\"Student 1\", \"Student 2\", \"Student 3\", \"Student 4\", \"Student 5\"]\n",
    "\n",
    "# Plot bar chart\n",
    "plt.bar(students, weighted_avg, color=\"skyblue\")\n",
    "plt.title(\"Weighted Average Scores per Student\")\n",
    "plt.xlabel(\"Students\")\n",
    "plt.ylabel(\"Weighted Average\")\n",
    "plt.ylim(0, 100)\n",
    "plt.show()"
   ]
  },
  {
   "cell_type": "code",
   "execution_count": null,
   "id": "06ea82bd",
   "metadata": {},
   "outputs": [],
   "source": []
  },
  {
   "cell_type": "markdown",
   "id": "eb3ab1aa",
   "metadata": {},
   "source": [
    "$text\\mean"
   ]
  }
 ],
 "metadata": {
  "kernelspec": {
   "display_name": "_task_env",
   "language": "python",
   "name": "python3"
  },
  "language_info": {
   "codemirror_mode": {
    "name": "ipython",
    "version": 3
   },
   "file_extension": ".py",
   "mimetype": "text/x-python",
   "name": "python",
   "nbconvert_exporter": "python",
   "pygments_lexer": "ipython3",
   "version": "3.13.5"
  }
 },
 "nbformat": 4,
 "nbformat_minor": 5
}

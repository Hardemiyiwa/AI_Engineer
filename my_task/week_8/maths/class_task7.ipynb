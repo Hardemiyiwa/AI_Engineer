{
 "cells": [
  {
   "cell_type": "markdown",
   "id": "4e085573",
   "metadata": {},
   "source": [
    "**Execise** Given([4, 8, 6, 5, 3]) find the variance.\n",
    "\n",
    "**solution**\n",
    "\n",
    "mean $\\bar{x}$ = (4 + 8 + 6 + 5 + 3) / 5\n",
    "\n",
    "$\\bar{x}$ = 5.2\n",
    "\n",
    "| x     | $(x - $($\\bar{x}$)$)$| $(x - $($\\bar{x}$)$)^2$|\n",
    "|-------|----------|-----------|\n",
    "| $4$   | $4 - 5.2$ | $1.44$ |\n",
    "| $8$   | $8 - 5.2$ | $7.84$ |\n",
    "| $6$   | $6 - 5.2$ | $0.64$ |\n",
    "| $5$   | $5 - 5.2$ | $0.04$ |\n",
    "| $3$   | $3 - 5.2$ | $4.84$ |\n",
    "\n",
    "variance = (1.44 + 7.84 + 0.64 + 0.04 + 4.84) / 5\n",
    "\n",
    "variance = 2.96\n"
   ]
  },
  {
   "cell_type": "markdown",
   "id": "50e9c101",
   "metadata": {},
   "source": [
    "**Interpretation**\n",
    "\n",
    "- Variance (2.96) shows how spread out the data is around the mean.\n",
    "A higher variance means more spread; a lower one means data are closer together.\n",
    "\n",
    "- Standard deviation (1.72) tells us, on average, how far each value is from the mean.\n",
    "So here, the shoe sizes (or in this case, numbers) differ from the average (5.2) by about 1.7 units."
   ]
  }
 ],
 "metadata": {
  "language_info": {
   "name": "python"
  }
 },
 "nbformat": 4,
 "nbformat_minor": 5
}

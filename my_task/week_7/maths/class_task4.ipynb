{
 "cells": [
  {
   "cell_type": "code",
   "execution_count": 13,
   "id": "86a82079",
   "metadata": {},
   "outputs": [],
   "source": [
    "import numpy as np"
   ]
  },
  {
   "cell_type": "markdown",
   "id": "8bea3835",
   "metadata": {},
   "source": []
  },
  {
   "cell_type": "markdown",
   "id": "c89fb4f0",
   "metadata": {},
   "source": [
    "1. Create a new 5x4 matrix of scores (5 students, 4 subjects). Compute each student's total score and the average per subject"
   ]
  },
  {
   "cell_type": "code",
   "execution_count": 14,
   "id": "da1babd7",
   "metadata": {},
   "outputs": [
    {
     "name": "stdout",
     "output_type": "stream",
     "text": [
      "Student total score:\n",
      "[300 290 355 270 280]\n",
      "\n",
      "Average per subject:\n",
      " [72.  74.6 79.4 73. ]\n"
     ]
    }
   ],
   "source": [
    "students = np.array([[80, 70, 90, 60],\n",
    "                     [60, 85, 75, 70],\n",
    "                     [95, 88, 92, 80],\n",
    "                     [70, 60, 65, 75],\n",
    "                     [55, 70, 75, 80]])\n",
    "\n",
    "students_total_score = np.sum(students, axis=1)\n",
    "print(f\"Student total score:\\n{students_total_score}\")\n",
    "\n",
    "students_avg_score = np.average(students, axis=0)\n",
    "print(\"\\nAverage per subject:\\n\", students_avg_score)"
   ]
  },
  {
   "cell_type": "markdown",
   "id": "2f263e9c",
   "metadata": {},
   "source": [
    "2. Suppose one subject(e.g., science) is times more important than others. Apply scalar multiplication and recompute totals "
   ]
  },
  {
   "cell_type": "code",
   "execution_count": 15,
   "id": "162479d8",
   "metadata": {},
   "outputs": [
    {
     "name": "stdout",
     "output_type": "stream",
     "text": [
      "New student score:\n",
      " [[ 80  70 270  60]\n",
      " [ 60  85 225  70]\n",
      " [ 95  88 276  80]\n",
      " [ 70  60 195  75]\n",
      " [ 55  70 225  80]]\n",
      "\n",
      "New total score:\n"
     ]
    },
    {
     "data": {
      "text/plain": [
       "array([480, 440, 539, 400, 430])"
      ]
     },
     "execution_count": 15,
     "metadata": {},
     "output_type": "execute_result"
    }
   ],
   "source": [
    "# getting the science score\n",
    "science_score = students[:, 2].copy()\n",
    "# multiplying science score by 3\n",
    "science_score *= 3\n",
    "\n",
    "students[:, 2] = science_score\n",
    "print(\"New student score:\\n\", students)\n",
    "\n",
    "new_total_score = np.sum(students, axis=1)\n",
    "print(\"\\nNew total score:\")\n",
    "new_total_score"
   ]
  },
  {
   "cell_type": "markdown",
   "id": "9b99f94e",
   "metadata": {},
   "source": [
    "3. Define new weight for grading(e.g 40%, 20%, 30%, 10%). compute final grades using matrix multiplication. using  "
   ]
  },
  {
   "cell_type": "code",
   "execution_count": 18,
   "id": "691b60ab",
   "metadata": {},
   "outputs": [
    {
     "data": {
      "text/plain": [
       "array([133. , 115.5, 146.4, 106. , 111.5])"
      ]
     },
     "execution_count": 18,
     "metadata": {},
     "output_type": "execute_result"
    }
   ],
   "source": [
    "weight = np.array([0.4, 0.2, 0.3, 0.1])\n",
    "\n",
    "grade = students @ weight\n",
    "grade"
   ]
  },
  {
   "cell_type": "code",
   "execution_count": null,
   "id": "e55811ca",
   "metadata": {},
   "outputs": [],
   "source": []
  }
 ],
 "metadata": {
  "kernelspec": {
   "display_name": "_task_env",
   "language": "python",
   "name": "python3"
  },
  "language_info": {
   "codemirror_mode": {
    "name": "ipython",
    "version": 3
   },
   "file_extension": ".py",
   "mimetype": "text/x-python",
   "name": "python",
   "nbconvert_exporter": "python",
   "pygments_lexer": "ipython3",
   "version": "3.13.5"
  }
 },
 "nbformat": 4,
 "nbformat_minor": 5
}

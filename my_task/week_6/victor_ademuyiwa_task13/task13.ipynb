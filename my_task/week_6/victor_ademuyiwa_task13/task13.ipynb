{
 "cells": [
  {
   "cell_type": "markdown",
   "id": "75318c7f",
   "metadata": {},
   "source": [
    "#### Task 13 result"
   ]
  },
  {
   "cell_type": "code",
   "execution_count": 2,
   "id": "981f9e7e",
   "metadata": {},
   "outputs": [],
   "source": [
    "import numpy as np\n"
   ]
  },
  {
   "cell_type": "markdown",
   "id": "69722641",
   "metadata": {},
   "source": [
    "1. Creating a 6x6 Numpy array with random integers between 1 and 50. Display the array"
   ]
  },
  {
   "cell_type": "code",
   "execution_count": 4,
   "id": "4afa978a",
   "metadata": {},
   "outputs": [
    {
     "name": "stdout",
     "output_type": "stream",
     "text": [
      "[[43 21 21 36  4 11]\n",
      " [37 11 12 49  2  2]\n",
      " [33 18 18 29 43 41]\n",
      " [15 13 25 23 26  3]\n",
      " [18  1 23 17 32 18]\n",
      " [ 8 10 13 21 37 18]]\n"
     ]
    }
   ],
   "source": [
    "arr = np.random.randint(1, 51, size=(6, 6))\n",
    "print(arr)"
   ]
  },
  {
   "cell_type": "markdown",
   "id": "1b097024",
   "metadata": {},
   "source": [
    "2. Extract the following from the array you created in Question 1: The first two rows. The last three columns. All even numbers in the array."
   ]
  },
  {
   "cell_type": "code",
   "execution_count": 7,
   "id": "2f9580b1",
   "metadata": {},
   "outputs": [
    {
     "name": "stdout",
     "output_type": "stream",
     "text": [
      "First two row\n",
      " [[43 21 21 36  4 11]\n",
      " [37 11 12 49  2  2]]\n",
      "Last three column\n",
      " [[36  4 11]\n",
      " [49  2  2]\n",
      " [29 43 41]\n",
      " [23 26  3]\n",
      " [17 32 18]\n",
      " [21 37 18]]\n",
      "All even\n",
      " [36  4 12  2  2 18 18 26 18 32 18  8 10 18]\n"
     ]
    }
   ],
   "source": [
    "# The first two row\n",
    "print(\"First two row\\n\", arr[:2])\n",
    "\n",
    "# The last three column\n",
    "print(\"Last three column\\n\", arr[:, -3:])\n",
    "\n",
    "# All even number\n",
    "even_arr = arr[arr % 2 == 0]\n",
    "print(\"All even\\n\", even_arr)"
   ]
  },
  {
   "cell_type": "markdown",
   "id": "b964358a",
   "metadata": {},
   "source": [
    "3. Perform the following array transformations: Reshape the array into a 3D (3, 2, 6) array. Flatten the reshaped array back to 1D."
   ]
  },
  {
   "cell_type": "code",
   "execution_count": 9,
   "id": "af579cf3",
   "metadata": {},
   "outputs": [
    {
     "name": "stdout",
     "output_type": "stream",
     "text": [
      "Reshape array to 3D\n",
      " [[[43 21 21 36  4 11]\n",
      "  [37 11 12 49  2  2]]\n",
      "\n",
      " [[33 18 18 29 43 41]\n",
      "  [15 13 25 23 26  3]]\n",
      "\n",
      " [[18  1 23 17 32 18]\n",
      "  [ 8 10 13 21 37 18]]]\n",
      "flatten back to 1D\n",
      " [43 21 21 36  4 11 37 11 12 49  2  2 33 18 18 29 43 41 15 13 25 23 26  3\n",
      " 18  1 23 17 32 18  8 10 13 21 37 18]\n"
     ]
    }
   ],
   "source": [
    "reshape_3D = arr.reshape(3, 2, 6)\n",
    "print(\"Reshape array to 3D\\n\", reshape_3D)\n",
    "flatten_arr = reshape_3D.flatten()\n",
    "print(\"flatten back to 1D\\n\", flatten_arr)"
   ]
  },
  {
   "cell_type": "markdown",
   "id": "c4f1d20f",
   "metadata": {},
   "source": [
    "4. Generate a 4x4 identity matrix and replace the diagonal with numbers from 10 to 40, with a step of 10."
   ]
  },
  {
   "cell_type": "code",
   "execution_count": null,
   "id": "3709a16e",
   "metadata": {},
   "outputs": [],
   "source": [
    "# 4 x 4 identity matrix\n",
    "identity_matrix = np.eye(4)\n",
    "print(\"Identity matrix:\\n\", identity_matrix)\n",
    "\n",
    "# Replcaing the diagonal with number\n",
    "np.fill_diagonal(identity_matrix, [10, 20, 30, 40])\n",
    "print(\"Diagonal matrix\\n\", identity_matrix)"
   ]
  },
  {
   "cell_type": "markdown",
   "id": "d40ceaeb",
   "metadata": {},
   "source": [
    "5. Perform matrix multiplication between: A 3x4 matrix of random integers (1-10) A 4x3 matrix of random integers (1-10)"
   ]
  },
  {
   "cell_type": "code",
   "execution_count": null,
   "id": "8630bd2e",
   "metadata": {},
   "outputs": [],
   "source": [
    "a_arr = np.random.randint(1, 11, size=(3, 4))\n",
    "b_arr = np.random.randint(1, 11, size=(4, 3))\n",
    "\n",
    "# Array product\n",
    "# product_arr = np.dot(a_arr, b_arr)\n",
    "# product_arr\n",
    "product_arr = a_arr @ b_arr\n",
    "print(\"Array product\\n\", product_arr)"
   ]
  },
  {
   "cell_type": "markdown",
   "id": "fcc4b351",
   "metadata": {},
   "source": [
    "6. Create a function that takes a 2D NumPy array as input and returns a new array where: All even numbers are squared. All odd numbers are replaced by -1."
   ]
  },
  {
   "cell_type": "code",
   "execution_count": null,
   "id": "6d3a4b90",
   "metadata": {},
   "outputs": [],
   "source": [
    "def arr_even_sq_odd_minus_1(arr):\n",
    "    return np.where(arr % 2 == 0, arr **2, -1)\n",
    "\n",
    "arr = np.random.randint(1, 20, size=(3, 4))\n",
    "arr_opration = arr_even_sq_odd_minus_1(arr)\n",
    "\n",
    "print(\"Array before operation\\n\", arr)\n",
    "print(\"Array after operation\\n\", arr_opration)"
   ]
  }
 ],
 "metadata": {
  "kernelspec": {
   "display_name": "_data_env",
   "language": "python",
   "name": "python3"
  },
  "language_info": {
   "codemirror_mode": {
    "name": "ipython",
    "version": 3
   },
   "file_extension": ".py",
   "mimetype": "text/x-python",
   "name": "python",
   "nbconvert_exporter": "python",
   "pygments_lexer": "ipython3",
   "version": "3.13.7"
  }
 },
 "nbformat": 4,
 "nbformat_minor": 5
}
